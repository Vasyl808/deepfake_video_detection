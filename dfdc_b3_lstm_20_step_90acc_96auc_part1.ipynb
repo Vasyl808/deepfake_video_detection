{
 "cells": [
  {
   "cell_type": "code",
   "execution_count": 1,
   "id": "8becee74",
   "metadata": {
    "execution": {
     "iopub.execute_input": "2025-02-16T20:22:52.248375Z",
     "iopub.status.busy": "2025-02-16T20:22:52.248087Z",
     "iopub.status.idle": "2025-02-16T20:22:53.883097Z",
     "shell.execute_reply": "2025-02-16T20:22:53.882068Z"
    },
    "papermill": {
     "duration": 1.646544,
     "end_time": "2025-02-16T20:22:53.884893",
     "exception": false,
     "start_time": "2025-02-16T20:22:52.238349",
     "status": "completed"
    },
    "tags": []
   },
   "outputs": [
    {
     "name": "stdout",
     "output_type": "stream",
     "text": [
      "Collecting facenet_pytorch\r\n",
      "  Downloading facenet_pytorch-2.6.0-py3-none-any.whl.metadata (12 kB)\r\n",
      "Downloading facenet_pytorch-2.6.0-py3-none-any.whl (1.9 MB)\r\n",
      "\u001b[2K   \u001b[90m━━━━━━━━━━━━━━━━━━━━━━━━━━━━━━━━━━━━━━━━\u001b[0m \u001b[32m1.9/1.9 MB\u001b[0m \u001b[31m32.2 MB/s\u001b[0m eta \u001b[36m0:00:00\u001b[0m\r\n",
      "\u001b[?25hInstalling collected packages: facenet_pytorch\r\n",
      "Successfully installed facenet_pytorch-2.6.0\r\n"
     ]
    }
   ],
   "source": [
    "!pip install facenet_pytorch --no-deps"
   ]
  },
  {
   "cell_type": "code",
   "execution_count": 2,
   "id": "d3bca5bf",
   "metadata": {
    "execution": {
     "iopub.execute_input": "2025-02-16T20:22:53.902959Z",
     "iopub.status.busy": "2025-02-16T20:22:53.902675Z",
     "iopub.status.idle": "2025-02-16T20:22:53.906267Z",
     "shell.execute_reply": "2025-02-16T20:22:53.905453Z"
    },
    "papermill": {
     "duration": 0.013644,
     "end_time": "2025-02-16T20:22:53.907513",
     "exception": false,
     "start_time": "2025-02-16T20:22:53.893869",
     "status": "completed"
    },
    "tags": []
   },
   "outputs": [],
   "source": [
    "DATA_PATH = '/kaggle/input/'"
   ]
  },
  {
   "cell_type": "code",
   "execution_count": 3,
   "id": "189816f4",
   "metadata": {
    "execution": {
     "iopub.execute_input": "2025-02-16T20:22:53.924305Z",
     "iopub.status.busy": "2025-02-16T20:22:53.924080Z",
     "iopub.status.idle": "2025-02-16T20:23:03.837379Z",
     "shell.execute_reply": "2025-02-16T20:23:03.836687Z"
    },
    "papermill": {
     "duration": 9.923283,
     "end_time": "2025-02-16T20:23:03.838944",
     "exception": false,
     "start_time": "2025-02-16T20:22:53.915661",
     "status": "completed"
    },
    "tags": []
   },
   "outputs": [],
   "source": [
    "import os\n",
    "import random\n",
    "import datetime\n",
    "import sys\n",
    "import itertools\n",
    "import os.path\n",
    "import time\n",
    "import glob\n",
    "import subprocess\n",
    "import shutil\n",
    "from pathlib import Path\n",
    "from collections import Counter, defaultdict\n",
    "import gc\n",
    "import math\n",
    "from typing import List, Dict, Tuple, Union\n",
    "\n",
    "from tqdm import tqdm\n",
    "from sklearn.metrics import confusion_matrix, classification_report\n",
    "from sklearn.metrics import roc_auc_score\n",
    "import pandas as pd\n",
    "import numpy as np\n",
    "import json\n",
    "from sklearn.model_selection import train_test_split\n",
    "import seaborn as sns\n",
    "import matplotlib.pyplot as plt\n",
    "\n",
    "\n",
    "import torch\n",
    "import torchvision\n",
    "import torch.nn as nn\n",
    "import torch.optim as optim\n",
    "from torch.nn import functional as F\n",
    "from facenet_pytorch import MTCNN\n",
    "from torch.nn import functional\n",
    "import torchvision.models as models\n",
    "import cv2\n",
    "\n",
    "\n",
    "import warnings\n",
    "warnings.filterwarnings(\"ignore\", category=UserWarning)\n",
    "warnings.filterwarnings(\"ignore\", category=FutureWarning)"
   ]
  },
  {
   "cell_type": "code",
   "execution_count": 4,
   "id": "a1aade12",
   "metadata": {
    "execution": {
     "iopub.execute_input": "2025-02-16T20:23:03.856952Z",
     "iopub.status.busy": "2025-02-16T20:23:03.856520Z",
     "iopub.status.idle": "2025-02-16T20:23:03.912710Z",
     "shell.execute_reply": "2025-02-16T20:23:03.911995Z"
    },
    "papermill": {
     "duration": 0.066219,
     "end_time": "2025-02-16T20:23:03.913907",
     "exception": false,
     "start_time": "2025-02-16T20:23:03.847688",
     "status": "completed"
    },
    "tags": []
   },
   "outputs": [
    {
     "data": {
      "text/plain": [
       "device(type='cuda')"
      ]
     },
     "execution_count": 4,
     "metadata": {},
     "output_type": "execute_result"
    }
   ],
   "source": [
    "device = torch.device('cuda' if torch.cuda.is_available() else 'cpu')\n",
    "device"
   ]
  },
  {
   "cell_type": "code",
   "execution_count": 5,
   "id": "63698c56",
   "metadata": {
    "execution": {
     "iopub.execute_input": "2025-02-16T20:23:03.931141Z",
     "iopub.status.busy": "2025-02-16T20:23:03.930905Z",
     "iopub.status.idle": "2025-02-16T20:23:03.960202Z",
     "shell.execute_reply": "2025-02-16T20:23:03.959435Z"
    },
    "papermill": {
     "duration": 0.039155,
     "end_time": "2025-02-16T20:23:03.961487",
     "exception": false,
     "start_time": "2025-02-16T20:23:03.922332",
     "status": "completed"
    },
    "tags": []
   },
   "outputs": [
    {
     "data": {
      "text/plain": [
       "'Tesla P100-PCIE-16GB'"
      ]
     },
     "execution_count": 5,
     "metadata": {},
     "output_type": "execute_result"
    }
   ],
   "source": [
    "torch.cuda.get_device_name(0)"
   ]
  },
  {
   "cell_type": "code",
   "execution_count": 6,
   "id": "beb5809e",
   "metadata": {
    "execution": {
     "iopub.execute_input": "2025-02-16T20:23:03.979448Z",
     "iopub.status.busy": "2025-02-16T20:23:03.979191Z",
     "iopub.status.idle": "2025-02-16T20:23:04.023496Z",
     "shell.execute_reply": "2025-02-16T20:23:04.022694Z"
    },
    "papermill": {
     "duration": 0.054795,
     "end_time": "2025-02-16T20:23:04.024968",
     "exception": false,
     "start_time": "2025-02-16T20:23:03.970173",
     "status": "completed"
    },
    "tags": []
   },
   "outputs": [
    {
     "data": {
      "text/html": [
       "<div>\n",
       "<style scoped>\n",
       "    .dataframe tbody tr th:only-of-type {\n",
       "        vertical-align: middle;\n",
       "    }\n",
       "\n",
       "    .dataframe tbody tr th {\n",
       "        vertical-align: top;\n",
       "    }\n",
       "\n",
       "    .dataframe thead th {\n",
       "        text-align: right;\n",
       "    }\n",
       "</style>\n",
       "<table border=\"1\" class=\"dataframe\">\n",
       "  <thead>\n",
       "    <tr style=\"text-align: right;\">\n",
       "      <th></th>\n",
       "      <th>file_path</th>\n",
       "      <th>label</th>\n",
       "    </tr>\n",
       "  </thead>\n",
       "  <tbody>\n",
       "    <tr>\n",
       "      <th>0</th>\n",
       "      <td>deepfake-detection/FAKE/FAKE/dfdc_train_part_9...</td>\n",
       "      <td>FAKE</td>\n",
       "    </tr>\n",
       "    <tr>\n",
       "      <th>1</th>\n",
       "      <td>deepfake-detection/FAKE/FAKE/dfdc_train_part_1...</td>\n",
       "      <td>FAKE</td>\n",
       "    </tr>\n",
       "    <tr>\n",
       "      <th>2</th>\n",
       "      <td>deepfake-detection/FAKE/FAKE/dfdc_train_part_8...</td>\n",
       "      <td>FAKE</td>\n",
       "    </tr>\n",
       "    <tr>\n",
       "      <th>3</th>\n",
       "      <td>deepfake-detection/FAKE/FAKE/dfdc_train_part_7...</td>\n",
       "      <td>FAKE</td>\n",
       "    </tr>\n",
       "    <tr>\n",
       "      <th>4</th>\n",
       "      <td>deepfake-detection/FAKE/FAKE/dfdc_train_part_4...</td>\n",
       "      <td>FAKE</td>\n",
       "    </tr>\n",
       "    <tr>\n",
       "      <th>...</th>\n",
       "      <td>...</td>\n",
       "      <td>...</td>\n",
       "    </tr>\n",
       "    <tr>\n",
       "      <th>4307</th>\n",
       "      <td>deepfake-detection/REAL/REAL/dfdc_train_part_9...</td>\n",
       "      <td>REAL</td>\n",
       "    </tr>\n",
       "    <tr>\n",
       "      <th>4308</th>\n",
       "      <td>deepfake-detection/REAL/REAL/dfdc_train_part_9...</td>\n",
       "      <td>REAL</td>\n",
       "    </tr>\n",
       "    <tr>\n",
       "      <th>4309</th>\n",
       "      <td>deepfake-detection/REAL/REAL/dfdc_train_part_9...</td>\n",
       "      <td>REAL</td>\n",
       "    </tr>\n",
       "    <tr>\n",
       "      <th>4310</th>\n",
       "      <td>deepfake-detection/REAL/REAL/dfdc_train_part_9...</td>\n",
       "      <td>REAL</td>\n",
       "    </tr>\n",
       "    <tr>\n",
       "      <th>4311</th>\n",
       "      <td>deepfake-detection/REAL/REAL/dfdc_train_part_9...</td>\n",
       "      <td>REAL</td>\n",
       "    </tr>\n",
       "  </tbody>\n",
       "</table>\n",
       "<p>4312 rows × 2 columns</p>\n",
       "</div>"
      ],
      "text/plain": [
       "                                              file_path label\n",
       "0     deepfake-detection/FAKE/FAKE/dfdc_train_part_9...  FAKE\n",
       "1     deepfake-detection/FAKE/FAKE/dfdc_train_part_1...  FAKE\n",
       "2     deepfake-detection/FAKE/FAKE/dfdc_train_part_8...  FAKE\n",
       "3     deepfake-detection/FAKE/FAKE/dfdc_train_part_7...  FAKE\n",
       "4     deepfake-detection/FAKE/FAKE/dfdc_train_part_4...  FAKE\n",
       "...                                                 ...   ...\n",
       "4307  deepfake-detection/REAL/REAL/dfdc_train_part_9...  REAL\n",
       "4308  deepfake-detection/REAL/REAL/dfdc_train_part_9...  REAL\n",
       "4309  deepfake-detection/REAL/REAL/dfdc_train_part_9...  REAL\n",
       "4310  deepfake-detection/REAL/REAL/dfdc_train_part_9...  REAL\n",
       "4311  deepfake-detection/REAL/REAL/dfdc_train_part_9...  REAL\n",
       "\n",
       "[4312 rows x 2 columns]"
      ]
     },
     "execution_count": 6,
     "metadata": {},
     "output_type": "execute_result"
    }
   ],
   "source": [
    "df = pd.read_csv(DATA_PATH + 'faces_metadata.csv')\n",
    "df"
   ]
  },
  {
   "cell_type": "code",
   "execution_count": 7,
   "id": "9d6d8bd4",
   "metadata": {
    "execution": {
     "iopub.execute_input": "2025-02-16T20:23:04.043482Z",
     "iopub.status.busy": "2025-02-16T20:23:04.043236Z",
     "iopub.status.idle": "2025-02-16T20:23:04.178973Z",
     "shell.execute_reply": "2025-02-16T20:23:04.177831Z"
    },
    "papermill": {
     "duration": 0.146105,
     "end_time": "2025-02-16T20:23:04.180555",
     "exception": false,
     "start_time": "2025-02-16T20:23:04.034450",
     "status": "completed"
    },
    "tags": []
   },
   "outputs": [
    {
     "name": "stdout",
     "output_type": "stream",
     "text": [
      "deepfake-detection  faces_metadata.csv\t__notebook__.ipynb\r\n"
     ]
    }
   ],
   "source": [
    "!ls /kaggle/input/"
   ]
  },
  {
   "cell_type": "code",
   "execution_count": 8,
   "id": "897f505e",
   "metadata": {
    "execution": {
     "iopub.execute_input": "2025-02-16T20:23:04.199123Z",
     "iopub.status.busy": "2025-02-16T20:23:04.198811Z",
     "iopub.status.idle": "2025-02-16T20:23:04.205508Z",
     "shell.execute_reply": "2025-02-16T20:23:04.204825Z"
    },
    "papermill": {
     "duration": 0.017428,
     "end_time": "2025-02-16T20:23:04.206878",
     "exception": false,
     "start_time": "2025-02-16T20:23:04.189450",
     "status": "completed"
    },
    "tags": []
   },
   "outputs": [],
   "source": [
    "def convert_path(path: str) -> str:\n",
    "    for i in range(10):\n",
    "        path = path.replace(f'{i:02}', str(i))\n",
    "    return path\n",
    "\n",
    "\n",
    "def process_file_paths(df: pd.DataFrame) -> List[Tuple[str, str]]:\n",
    "    result: List[Tuple[str, str]] = []\n",
    "\n",
    "    for _, row in df.iterrows():\n",
    "        file_name = row['file_path']\n",
    "\n",
    "        file_path = file_name\n",
    "\n",
    "        result.append((DATA_PATH + file_path, row['label']))\n",
    "\n",
    "    return result\n",
    "\n",
    "\n",
    "def get_video_info(video_path: str) -> Union[Tuple[int, float], Tuple[None, None]]:\n",
    "    cap = cv2.VideoCapture(video_path)\n",
    "    \n",
    "    if not cap.isOpened():\n",
    "        print(f\"Не вдалося відкрити файл: {video_path}\")\n",
    "        return None, None\n",
    "    \n",
    "    frame_count = int(cap.get(cv2.CAP_PROP_FRAME_COUNT))\n",
    "    fps = cap.get(cv2.CAP_PROP_FPS)  \n",
    "    cap.release()\n",
    "    \n",
    "    return frame_count, fps"
   ]
  },
  {
   "cell_type": "code",
   "execution_count": 9,
   "id": "40057bc6",
   "metadata": {
    "execution": {
     "iopub.execute_input": "2025-02-16T20:23:04.224408Z",
     "iopub.status.busy": "2025-02-16T20:23:04.224193Z",
     "iopub.status.idle": "2025-02-16T20:23:39.895974Z",
     "shell.execute_reply": "2025-02-16T20:23:39.895022Z"
    },
    "papermill": {
     "duration": 35.690046,
     "end_time": "2025-02-16T20:23:39.905299",
     "exception": false,
     "start_time": "2025-02-16T20:23:04.215253",
     "status": "completed"
    },
    "tags": []
   },
   "outputs": [
    {
     "name": "stdout",
     "output_type": "stream",
     "text": [
      "FPS статистика:\n",
      "count    4312.000000\n",
      "mean       29.392528\n",
      "std         1.920386\n",
      "min        12.474000\n",
      "25%        29.965000\n",
      "50%        29.970000\n",
      "75%        29.970000\n",
      "max        30.080000\n",
      "Name: fps, dtype: float64\n",
      "\n",
      "Кількість кадрів статистика:\n",
      "count    4312.0\n",
      "mean       20.0\n",
      "std         0.0\n",
      "min        20.0\n",
      "25%        20.0\n",
      "50%        20.0\n",
      "75%        20.0\n",
      "max        20.0\n",
      "Name: frames, dtype: float64\n"
     ]
    }
   ],
   "source": [
    "video_stats = []\n",
    "result = process_file_paths(df)\n",
    "\n",
    "for video_path, label in result:\n",
    "    frame_count, fps = get_video_info(video_path)\n",
    "    if frame_count is not None and fps is not None:\n",
    "        video_stats.append({\n",
    "            'file_path': video_path,\n",
    "            'label': label,\n",
    "            'frames': frame_count,\n",
    "            'fps': fps\n",
    "        })\n",
    "\n",
    "df = pd.DataFrame(video_stats)\n",
    "\n",
    "stats_fps = df['fps'].describe()\n",
    "stats_frames = df['frames'].describe()\n",
    "\n",
    "print(\"FPS статистика:\")\n",
    "print(stats_fps)\n",
    "\n",
    "print(\"\\nКількість кадрів статистика:\")\n",
    "print(stats_frames)\n",
    "#df = df[df['fps'] >= 28]"
   ]
  },
  {
   "cell_type": "code",
   "execution_count": 10,
   "id": "b77bddb0",
   "metadata": {
    "execution": {
     "iopub.execute_input": "2025-02-16T20:23:39.923693Z",
     "iopub.status.busy": "2025-02-16T20:23:39.923424Z",
     "iopub.status.idle": "2025-02-16T20:23:39.927891Z",
     "shell.execute_reply": "2025-02-16T20:23:39.927279Z"
    },
    "papermill": {
     "duration": 0.014997,
     "end_time": "2025-02-16T20:23:39.929031",
     "exception": false,
     "start_time": "2025-02-16T20:23:39.914034",
     "status": "completed"
    },
    "tags": []
   },
   "outputs": [],
   "source": [
    "files_to_remove_unique = set(['avjwhrqbwl_0', 'bpqrwvichd_0', 'cctrhqvein_0', 'eupisnxhsb_0', 'gerhijzwvq_0', 'katmliewya_0', 'onoowfeded_0',\n",
    "                  'pydbvfkslp_0', 'qqisdvvgfi_0', 'sclvdumbkh_0', 'snphlfsrmr_0', 'spxqkpmopb_0', 'vugbaeziku_0', 'vvtcvjvkqx_0',\n",
    "                   'xuoqfchsfj_0', 'zdkyyawcwe_0', 'mshechsves_0', 'ejwvqbeyef_0', 'pqbyjmgmrk_0', 'drmtykanjz_0', 'fktxniwzxe_0',\n",
    "                   'iynuflmhau_0', 'kligyzlcuk_0', 'kifzxbsnku_0', 'kifzxbsnku_0', 'euarbrmuzs_0', 'fodhjwybqm_0', 'pbpgyiimwt_0',\n",
    "                   'qmqfqyqmfx_0', 'thmwcolqan_0', 'xhwacojjdg_0', 'xkwjjjkcam_0', 'zktuaqrqqv_0', 'cioizeilvz_0', 'cotvlcroov_0',\n",
    "                   'tuxbzsrszr_0', 'ynpqkrmuap_0', 'gomxkjifiu_0', 'ukrckkvaqi_0', 'vlcbaytswm_0', 'wmobvmntzu_0', 'ydqeopjemz_0',\n",
    "                   'cxfbhgmuyu_0', 'hqqmtxvbjj_0', 'jaetnqgktl_0', 'yurtzoovou_0', 'hlcqjuwpsd_0', 'iarobzzslu_0', 'ailmasxkxb_0',\n",
    "                   'bbwrqfawrj_0', 'cefzoeryat_0', 'egcuyhyvsm_0', 'eqgipviesf_0', 'fwekcrqdak_0', 'giqncczwue_0', 'hslupphtel_0',\n",
    "                   'jmqmljznhv_0', 'lkbpavasad_0', 'osqruujwxd_0', 'pjibpowymk_0', 'ptchnzeeqc_0', 'sppyyoqaey_0', 'tohrqjyter_0',\n",
    "                   'xzcexrifxq_0', 'aahncigwte_0', 'fszexmwczt_0', 'fszexmwczt_0', 'lkgrqfcrps_0', 'cdgrttukjn_0', 'eclxonfxph_0',\n",
    "                   'eclxonfxph_0', 'gzbagbdubm_0', 'hhhvnhhqsc_0', 'junllgghcq_0', 'qyefejorlb_0'\n",
    "                  ])\n",
    "files_to_remove = list(files_to_remove_unique)\n",
    "#df = df[~df['file_path'].apply(lambda x: any(file in x for file in files_to_remove))]\n",
    "#df"
   ]
  },
  {
   "cell_type": "code",
   "execution_count": 11,
   "id": "5ff5f80b",
   "metadata": {
    "execution": {
     "iopub.execute_input": "2025-02-16T20:23:39.946685Z",
     "iopub.status.busy": "2025-02-16T20:23:39.946440Z",
     "iopub.status.idle": "2025-02-16T20:23:40.125216Z",
     "shell.execute_reply": "2025-02-16T20:23:40.124518Z"
    },
    "papermill": {
     "duration": 0.18921,
     "end_time": "2025-02-16T20:23:40.126690",
     "exception": false,
     "start_time": "2025-02-16T20:23:39.937480",
     "status": "completed"
    },
    "tags": []
   },
   "outputs": [],
   "source": [
    "def df_to_list(df: pd.DataFrame) -> List[Tuple[str, str]]:\n",
    "    result: List[Tuple[str, str]] = []\n",
    "\n",
    "    for _, row in df.iterrows():\n",
    "        file_name = row['file_path']\n",
    "\n",
    "        file_path = file_name\n",
    "\n",
    "        result.append((file_path, row['label']))\n",
    "\n",
    "    return result\n",
    "\n",
    "\n",
    "result = df_to_list(df)\n",
    "#result"
   ]
  },
  {
   "cell_type": "code",
   "execution_count": 12,
   "id": "28e57070",
   "metadata": {
    "execution": {
     "iopub.execute_input": "2025-02-16T20:23:40.145069Z",
     "iopub.status.busy": "2025-02-16T20:23:40.144814Z",
     "iopub.status.idle": "2025-02-16T20:23:40.154424Z",
     "shell.execute_reply": "2025-02-16T20:23:40.153631Z"
    },
    "papermill": {
     "duration": 0.019855,
     "end_time": "2025-02-16T20:23:40.155625",
     "exception": false,
     "start_time": "2025-02-16T20:23:40.135770",
     "status": "completed"
    },
    "tags": []
   },
   "outputs": [],
   "source": [
    "groups = defaultdict(list)\n",
    "for file_path, label in result:\n",
    "    base_name = os.path.basename(file_path).split('_')[0]\n",
    "    groups[base_name].append((file_path, label))\n",
    "\n",
    "single_element_groups = [group for group in groups.values() if len(group) == 1]\n",
    "\n",
    "#single_element_groups\n"
   ]
  },
  {
   "cell_type": "code",
   "execution_count": 13,
   "id": "14fb2196",
   "metadata": {
    "execution": {
     "iopub.execute_input": "2025-02-16T20:23:40.173344Z",
     "iopub.status.busy": "2025-02-16T20:23:40.173136Z",
     "iopub.status.idle": "2025-02-16T20:23:40.176703Z",
     "shell.execute_reply": "2025-02-16T20:23:40.176055Z"
    },
    "papermill": {
     "duration": 0.013826,
     "end_time": "2025-02-16T20:23:40.177895",
     "exception": false,
     "start_time": "2025-02-16T20:23:40.164069",
     "status": "completed"
    },
    "tags": []
   },
   "outputs": [],
   "source": [
    "train_files = [item for group in single_element_groups for item in group]"
   ]
  },
  {
   "cell_type": "code",
   "execution_count": 14,
   "id": "414121bd",
   "metadata": {
    "execution": {
     "iopub.execute_input": "2025-02-16T20:23:40.195518Z",
     "iopub.status.busy": "2025-02-16T20:23:40.195315Z",
     "iopub.status.idle": "2025-02-16T20:23:40.198324Z",
     "shell.execute_reply": "2025-02-16T20:23:40.197697Z"
    },
    "papermill": {
     "duration": 0.013094,
     "end_time": "2025-02-16T20:23:40.199520",
     "exception": false,
     "start_time": "2025-02-16T20:23:40.186426",
     "status": "completed"
    },
    "tags": []
   },
   "outputs": [],
   "source": [
    "#train_files"
   ]
  },
  {
   "cell_type": "code",
   "execution_count": 15,
   "id": "f69a6f29",
   "metadata": {
    "execution": {
     "iopub.execute_input": "2025-02-16T20:23:40.217203Z",
     "iopub.status.busy": "2025-02-16T20:23:40.216996Z",
     "iopub.status.idle": "2025-02-16T20:23:40.226415Z",
     "shell.execute_reply": "2025-02-16T20:23:40.225633Z"
    },
    "papermill": {
     "duration": 0.019532,
     "end_time": "2025-02-16T20:23:40.227583",
     "exception": false,
     "start_time": "2025-02-16T20:23:40.208051",
     "status": "completed"
    },
    "tags": []
   },
   "outputs": [],
   "source": [
    "df = pd.DataFrame(train_files, columns=['video_path', 'label'])\n",
    "#real_videos = df[df['label'] == 'REAL']\n",
    "#fake_videos = df[df['label'] == 'FAKE']\n",
    "\n",
    "#min_samples = min(len(real_videos), len(fake_videos))\n",
    "\n",
    "#real_balanced = real_videos.sample(n=min_samples, random_state=42)\n",
    "#fake_balanced = fake_videos.sample(n=min_samples, random_state=42)\n",
    "\n",
    "#df = pd.concat([real_balanced, fake_balanced]).sample(frac=1, random_state=17)\n",
    "\n",
    "train_data = df[~df['video_path'].str.contains('dfdc_train_part_8')]\n",
    "test_data = df[df['video_path'].str.contains('dfdc_train_part_8')]"
   ]
  },
  {
   "cell_type": "code",
   "execution_count": 16,
   "id": "2f0522bc",
   "metadata": {
    "execution": {
     "iopub.execute_input": "2025-02-16T20:23:40.245309Z",
     "iopub.status.busy": "2025-02-16T20:23:40.245088Z",
     "iopub.status.idle": "2025-02-16T20:23:40.283973Z",
     "shell.execute_reply": "2025-02-16T20:23:40.283129Z"
    },
    "papermill": {
     "duration": 0.049157,
     "end_time": "2025-02-16T20:23:40.285317",
     "exception": false,
     "start_time": "2025-02-16T20:23:40.236160",
     "status": "completed"
    },
    "scrolled": true,
    "tags": []
   },
   "outputs": [
    {
     "name": "stdout",
     "output_type": "stream",
     "text": [
      "0\n",
      "label\n",
      "FAKE    143\n",
      "REAL     68\n",
      "Name: count, dtype: int64\n",
      "1\n",
      "label\n",
      "FAKE    199\n",
      "REAL     93\n",
      "Name: count, dtype: int64\n",
      "2\n",
      "label\n",
      "REAL    203\n",
      "FAKE    157\n",
      "Name: count, dtype: int64\n",
      "3\n",
      "label\n",
      "REAL    199\n",
      "FAKE    165\n",
      "Name: count, dtype: int64\n",
      "4\n",
      "label\n",
      "FAKE    158\n",
      "REAL    154\n",
      "Name: count, dtype: int64\n",
      "5\n",
      "label\n",
      "REAL    310\n",
      "FAKE    240\n",
      "Name: count, dtype: int64\n",
      "6\n",
      "label\n",
      "REAL    390\n",
      "FAKE    380\n",
      "Name: count, dtype: int64\n",
      "7\n",
      "label\n",
      "REAL    306\n",
      "FAKE    267\n",
      "Name: count, dtype: int64\n",
      "8\n",
      "label\n",
      "REAL    254\n",
      "FAKE    214\n",
      "Name: count, dtype: int64\n",
      "9\n",
      "label\n",
      "REAL    258\n",
      "FAKE    154\n",
      "Name: count, dtype: int64\n"
     ]
    }
   ],
   "source": [
    "for i in range(10):\n",
    "    subset_df = df[df['video_path'].str.contains(f'dfdc_train_part_{i}')]\n",
    "    label_distribution = subset_df['label'].value_counts()\n",
    "    print(i)\n",
    "    print(label_distribution)"
   ]
  },
  {
   "cell_type": "code",
   "execution_count": 17,
   "id": "d2269c4c",
   "metadata": {
    "execution": {
     "iopub.execute_input": "2025-02-16T20:23:40.304063Z",
     "iopub.status.busy": "2025-02-16T20:23:40.303838Z",
     "iopub.status.idle": "2025-02-16T20:23:40.307877Z",
     "shell.execute_reply": "2025-02-16T20:23:40.307153Z"
    },
    "papermill": {
     "duration": 0.014458,
     "end_time": "2025-02-16T20:23:40.309054",
     "exception": false,
     "start_time": "2025-02-16T20:23:40.294596",
     "status": "completed"
    },
    "tags": []
   },
   "outputs": [
    {
     "name": "stdout",
     "output_type": "stream",
     "text": [
      "Train set size: 3844\n",
      "Test set size: 468\n"
     ]
    }
   ],
   "source": [
    "#train_data, test_data = train_test_split(df, test_size=0.2, stratify=df['label'], random_state=17)\n",
    "\n",
    "print(\"Train set size:\", len(train_data))\n",
    "print(\"Test set size:\", len(test_data))"
   ]
  },
  {
   "cell_type": "code",
   "execution_count": 18,
   "id": "e8af1891",
   "metadata": {
    "execution": {
     "iopub.execute_input": "2025-02-16T20:23:40.327385Z",
     "iopub.status.busy": "2025-02-16T20:23:40.327170Z",
     "iopub.status.idle": "2025-02-16T20:23:40.335123Z",
     "shell.execute_reply": "2025-02-16T20:23:40.334466Z"
    },
    "papermill": {
     "duration": 0.018391,
     "end_time": "2025-02-16T20:23:40.336210",
     "exception": false,
     "start_time": "2025-02-16T20:23:40.317819",
     "status": "completed"
    },
    "tags": []
   },
   "outputs": [
    {
     "data": {
      "text/html": [
       "<div>\n",
       "<style scoped>\n",
       "    .dataframe tbody tr th:only-of-type {\n",
       "        vertical-align: middle;\n",
       "    }\n",
       "\n",
       "    .dataframe tbody tr th {\n",
       "        vertical-align: top;\n",
       "    }\n",
       "\n",
       "    .dataframe thead th {\n",
       "        text-align: right;\n",
       "    }\n",
       "</style>\n",
       "<table border=\"1\" class=\"dataframe\">\n",
       "  <thead>\n",
       "    <tr style=\"text-align: right;\">\n",
       "      <th></th>\n",
       "      <th>video_path</th>\n",
       "      <th>label</th>\n",
       "    </tr>\n",
       "  </thead>\n",
       "  <tbody>\n",
       "    <tr>\n",
       "      <th>2</th>\n",
       "      <td>/kaggle/input/deepfake-detection/FAKE/FAKE/dfd...</td>\n",
       "      <td>FAKE</td>\n",
       "    </tr>\n",
       "    <tr>\n",
       "      <th>10</th>\n",
       "      <td>/kaggle/input/deepfake-detection/FAKE/FAKE/dfd...</td>\n",
       "      <td>FAKE</td>\n",
       "    </tr>\n",
       "    <tr>\n",
       "      <th>27</th>\n",
       "      <td>/kaggle/input/deepfake-detection/FAKE/FAKE/dfd...</td>\n",
       "      <td>FAKE</td>\n",
       "    </tr>\n",
       "    <tr>\n",
       "      <th>31</th>\n",
       "      <td>/kaggle/input/deepfake-detection/FAKE/FAKE/dfd...</td>\n",
       "      <td>FAKE</td>\n",
       "    </tr>\n",
       "    <tr>\n",
       "      <th>38</th>\n",
       "      <td>/kaggle/input/deepfake-detection/FAKE/FAKE/dfd...</td>\n",
       "      <td>FAKE</td>\n",
       "    </tr>\n",
       "    <tr>\n",
       "      <th>...</th>\n",
       "      <td>...</td>\n",
       "      <td>...</td>\n",
       "    </tr>\n",
       "    <tr>\n",
       "      <th>4049</th>\n",
       "      <td>/kaggle/input/deepfake-detection/REAL/REAL/dfd...</td>\n",
       "      <td>REAL</td>\n",
       "    </tr>\n",
       "    <tr>\n",
       "      <th>4050</th>\n",
       "      <td>/kaggle/input/deepfake-detection/REAL/REAL/dfd...</td>\n",
       "      <td>REAL</td>\n",
       "    </tr>\n",
       "    <tr>\n",
       "      <th>4051</th>\n",
       "      <td>/kaggle/input/deepfake-detection/REAL/REAL/dfd...</td>\n",
       "      <td>REAL</td>\n",
       "    </tr>\n",
       "    <tr>\n",
       "      <th>4052</th>\n",
       "      <td>/kaggle/input/deepfake-detection/REAL/REAL/dfd...</td>\n",
       "      <td>REAL</td>\n",
       "    </tr>\n",
       "    <tr>\n",
       "      <th>4053</th>\n",
       "      <td>/kaggle/input/deepfake-detection/REAL/REAL/dfd...</td>\n",
       "      <td>REAL</td>\n",
       "    </tr>\n",
       "  </tbody>\n",
       "</table>\n",
       "<p>468 rows × 2 columns</p>\n",
       "</div>"
      ],
      "text/plain": [
       "                                             video_path label\n",
       "2     /kaggle/input/deepfake-detection/FAKE/FAKE/dfd...  FAKE\n",
       "10    /kaggle/input/deepfake-detection/FAKE/FAKE/dfd...  FAKE\n",
       "27    /kaggle/input/deepfake-detection/FAKE/FAKE/dfd...  FAKE\n",
       "31    /kaggle/input/deepfake-detection/FAKE/FAKE/dfd...  FAKE\n",
       "38    /kaggle/input/deepfake-detection/FAKE/FAKE/dfd...  FAKE\n",
       "...                                                 ...   ...\n",
       "4049  /kaggle/input/deepfake-detection/REAL/REAL/dfd...  REAL\n",
       "4050  /kaggle/input/deepfake-detection/REAL/REAL/dfd...  REAL\n",
       "4051  /kaggle/input/deepfake-detection/REAL/REAL/dfd...  REAL\n",
       "4052  /kaggle/input/deepfake-detection/REAL/REAL/dfd...  REAL\n",
       "4053  /kaggle/input/deepfake-detection/REAL/REAL/dfd...  REAL\n",
       "\n",
       "[468 rows x 2 columns]"
      ]
     },
     "execution_count": 18,
     "metadata": {},
     "output_type": "execute_result"
    }
   ],
   "source": [
    "test_data"
   ]
  },
  {
   "cell_type": "code",
   "execution_count": 19,
   "id": "ed8a8475",
   "metadata": {
    "execution": {
     "iopub.execute_input": "2025-02-16T20:23:40.354726Z",
     "iopub.status.busy": "2025-02-16T20:23:40.354466Z",
     "iopub.status.idle": "2025-02-16T20:23:40.357473Z",
     "shell.execute_reply": "2025-02-16T20:23:40.356705Z"
    },
    "papermill": {
     "duration": 0.013676,
     "end_time": "2025-02-16T20:23:40.358813",
     "exception": false,
     "start_time": "2025-02-16T20:23:40.345137",
     "status": "completed"
    },
    "tags": []
   },
   "outputs": [],
   "source": [
    "#real_videos = train_data[train_data['label'] == 'REAL']\n",
    "#fake_videos = train_data[train_data['label'] == 'FAKE']\n",
    "\n",
    "#min_samples = min(len(real_videos), len(fake_videos))\n",
    "\n",
    "#real_balanced = real_videos.sample(n=min_samples, random_state=42)\n",
    "#fake_balanced = fake_videos.sample(n=min_samples, random_state=42)\n",
    "\n",
    "#train_data = pd.concat([real_balanced, fake_balanced]).sample(frac=1, random_state=17)\n",
    "#train_data"
   ]
  },
  {
   "cell_type": "code",
   "execution_count": 20,
   "id": "6ba0be24",
   "metadata": {
    "execution": {
     "iopub.execute_input": "2025-02-16T20:23:40.377233Z",
     "iopub.status.busy": "2025-02-16T20:23:40.377007Z",
     "iopub.status.idle": "2025-02-16T20:23:40.638609Z",
     "shell.execute_reply": "2025-02-16T20:23:40.637787Z"
    },
    "papermill": {
     "duration": 0.27238,
     "end_time": "2025-02-16T20:23:40.640068",
     "exception": false,
     "start_time": "2025-02-16T20:23:40.367688",
     "status": "completed"
    },
    "tags": []
   },
   "outputs": [
    {
     "data": {
      "text/plain": [
       "<Axes: >"
      ]
     },
     "execution_count": 20,
     "metadata": {},
     "output_type": "execute_result"
    },
    {
     "data": {
      "image/png": "[encoded data removed]",
      "text/plain": [
       "<Figure size 640x480 with 1 Axes>"
      ]
     },
     "metadata": {},
     "output_type": "display_data"
    }
   ],
   "source": [
    "train_data['label'].hist()"
   ]
  },
  {
   "cell_type": "code",
   "execution_count": 21,
   "id": "036b1718",
   "metadata": {
    "execution": {
     "iopub.execute_input": "2025-02-16T20:23:40.660792Z",
     "iopub.status.busy": "2025-02-16T20:23:40.660503Z",
     "iopub.status.idle": "2025-02-16T20:23:40.777645Z",
     "shell.execute_reply": "2025-02-16T20:23:40.776793Z"
    },
    "papermill": {
     "duration": 0.129179,
     "end_time": "2025-02-16T20:23:40.779195",
     "exception": false,
     "start_time": "2025-02-16T20:23:40.650016",
     "status": "completed"
    },
    "tags": []
   },
   "outputs": [
    {
     "data": {
      "text/plain": [
       "<Axes: >"
      ]
     },
     "execution_count": 21,
     "metadata": {},
     "output_type": "execute_result"
    },
    {
     "data": {
      "image/png": "[encoded data removed]",
      "text/plain": [
       "<Figure size 640x480 with 1 Axes>"
      ]
     },
     "metadata": {},
     "output_type": "display_data"
    }
   ],
   "source": [
    "test_data['label'].hist()"
   ]
  },
  {
   "cell_type": "code",
   "execution_count": 22,
   "id": "f7e55714",
   "metadata": {
    "execution": {
     "iopub.execute_input": "2025-02-16T20:23:40.799943Z",
     "iopub.status.busy": "2025-02-16T20:23:40.799670Z",
     "iopub.status.idle": "2025-02-16T20:23:40.804628Z",
     "shell.execute_reply": "2025-02-16T20:23:40.803911Z"
    },
    "papermill": {
     "duration": 0.01651,
     "end_time": "2025-02-16T20:23:40.805777",
     "exception": false,
     "start_time": "2025-02-16T20:23:40.789267",
     "status": "completed"
    },
    "tags": []
   },
   "outputs": [
    {
     "name": "stdout",
     "output_type": "stream",
     "text": [
      "Train set size: 3844\n",
      "Test set size: 468\n"
     ]
    }
   ],
   "source": [
    "print(\"Train set size:\", len(train_data))\n",
    "print(\"Test set size:\", len(test_data))"
   ]
  },
  {
   "cell_type": "code",
   "execution_count": 23,
   "id": "79cf9f43",
   "metadata": {
    "execution": {
     "iopub.execute_input": "2025-02-16T20:23:40.825901Z",
     "iopub.status.busy": "2025-02-16T20:23:40.825676Z",
     "iopub.status.idle": "2025-02-16T20:23:40.842191Z",
     "shell.execute_reply": "2025-02-16T20:23:40.841368Z"
    },
    "papermill": {
     "duration": 0.028026,
     "end_time": "2025-02-16T20:23:40.843469",
     "exception": false,
     "start_time": "2025-02-16T20:23:40.815443",
     "status": "completed"
    },
    "tags": []
   },
   "outputs": [],
   "source": [
    "train_data.to_csv(\"train_dataset.csv\", index=False)\n",
    "test_data.to_csv(\"test_dataset.csv\", index=False)"
   ]
  },
  {
   "cell_type": "code",
   "execution_count": 24,
   "id": "e53d7ba3",
   "metadata": {
    "execution": {
     "iopub.execute_input": "2025-02-16T20:23:40.863435Z",
     "iopub.status.busy": "2025-02-16T20:23:40.863205Z",
     "iopub.status.idle": "2025-02-16T20:23:41.075936Z",
     "shell.execute_reply": "2025-02-16T20:23:41.075261Z"
    },
    "papermill": {
     "duration": 0.224304,
     "end_time": "2025-02-16T20:23:41.077446",
     "exception": false,
     "start_time": "2025-02-16T20:23:40.853142",
     "status": "completed"
    },
    "tags": []
   },
   "outputs": [],
   "source": [
    "def create_json_from_csv(input_csv: str, output_json: str) -> None:\n",
    "    df = pd.read_csv(input_csv)\n",
    "    result: Dict[str, str] = {}\n",
    "\n",
    "    for _, row in df.iterrows():\n",
    "        file_path = row['video_path']\n",
    "        label = row['label']\n",
    "\n",
    "        result[file_path] = {'label': label}\n",
    "\n",
    "    with open(output_json, 'w') as json_file:\n",
    "        json.dump(result, json_file, indent=4)\n",
    "\n",
    "\n",
    "create_json_from_csv('train_dataset.csv', 'output_balenced_train.json')\n",
    "create_json_from_csv('test_dataset.csv', 'output_balenced_test.json')"
   ]
  },
  {
   "cell_type": "code",
   "execution_count": 25,
   "id": "65e850e2",
   "metadata": {
    "execution": {
     "iopub.execute_input": "2025-02-16T20:23:41.098462Z",
     "iopub.status.busy": "2025-02-16T20:23:41.098225Z",
     "iopub.status.idle": "2025-02-16T20:23:41.107100Z",
     "shell.execute_reply": "2025-02-16T20:23:41.106369Z"
    },
    "papermill": {
     "duration": 0.020436,
     "end_time": "2025-02-16T20:23:41.108256",
     "exception": false,
     "start_time": "2025-02-16T20:23:41.087820",
     "status": "completed"
    },
    "tags": []
   },
   "outputs": [
    {
     "name": "stdout",
     "output_type": "stream",
     "text": [
      "Label: FAKE, Count: 1863\n",
      "Label: REAL, Count: 1981\n"
     ]
    }
   ],
   "source": [
    "with open('output_balenced_train.json', 'r') as json_file:\n",
    "    data = json.load(json_file)\n",
    "\n",
    "label_counts = Counter()\n",
    "\n",
    "for item in data.values():\n",
    "    label_counts[item['label']] += 1\n",
    "\n",
    "for label, count in label_counts.items():\n",
    "    print(f\"Label: {label}, Count: {count}\")"
   ]
  },
  {
   "cell_type": "code",
   "execution_count": 26,
   "id": "cb494089",
   "metadata": {
    "execution": {
     "iopub.execute_input": "2025-02-16T20:23:41.128622Z",
     "iopub.status.busy": "2025-02-16T20:23:41.128352Z",
     "iopub.status.idle": "2025-02-16T20:23:41.138415Z",
     "shell.execute_reply": "2025-02-16T20:23:41.137627Z"
    },
    "papermill": {
     "duration": 0.021517,
     "end_time": "2025-02-16T20:23:41.139579",
     "exception": false,
     "start_time": "2025-02-16T20:23:41.118062",
     "status": "completed"
    },
    "tags": []
   },
   "outputs": [],
   "source": [
    "from torchvision import transforms\n",
    "\n",
    "\n",
    "class VideoDataset(torch.utils.data.Dataset):\n",
    "    def __init__(self, n_frames: int, df_path: str, device, cache_folder: str, image_size=(224, 224), transform=None):\n",
    "\n",
    "        self.n_frames = n_frames\n",
    "        self.videos = []\n",
    "        self.device = device if device is not None else torch.device(\"cpu\")\n",
    "        self.cache_folder = cache_folder\n",
    "        self.image_size = image_size\n",
    "        \n",
    "        self.transform = transform\n",
    "        \n",
    "        self.detector = MTCNN(device=device, post_process=False)\n",
    "\n",
    "        with open(df_path) as f:\n",
    "            videos = json.load(f)\n",
    "            videos = [(video, metadata) for (video, metadata) in videos.items()]\n",
    "            self.videos += videos\n",
    "\n",
    "    def __getitem__(self, n):\n",
    "        video, metadata = self.videos[n]\n",
    "        video_id = os.path.splitext(os.path.basename(video))[0]\n",
    "        cap = cv2.VideoCapture(video)\n",
    "\n",
    "        total_frames = int(cap.get(cv2.CAP_PROP_FRAME_COUNT))  # Загальна кількість кадрів у відео\n",
    "        start_frame = random.randint(0, max(0, total_frames - self.n_frames))  # Випадковий стартовий кадр\n",
    "\n",
    "        # Перемотка до стартового кадру\n",
    "        cap.set(cv2.CAP_PROP_POS_FRAMES, start_frame)\n",
    "\n",
    "        frames = []\n",
    "\n",
    "        for _ in range(self.n_frames):\n",
    "            ret, frame = cap.read()\n",
    "            if not ret:\n",
    "                break\n",
    "\n",
    "            frame = cv2.cvtColor(frame, cv2.COLOR_BGR2RGB)\n",
    "            resize = (self.image_size[0], self.image_size[1])\n",
    "            frame = cv2.resize(frame, resize)\n",
    "            frame = torch.from_numpy(frame).permute(2, 0, 1).float() / 255.0\n",
    "            frames.append(frame)\n",
    "\n",
    "        cap.release()\n",
    "\n",
    "        frames = torch.stack(frames).to(self.device)\n",
    "        \n",
    "        if self.transform:\n",
    "            frames = self.transform(frames)\n",
    "\n",
    "        label = 0.0\n",
    "        if metadata['label'] == 'FAKE':\n",
    "            label = 1.0\n",
    "\n",
    "        return frames, torch.FloatTensor([label]).to(self.device)\n",
    "\n",
    "\n",
    "    def __len__(self):\n",
    "        return len(self.videos)\n",
    "\n",
    "    \n",
    "class SameAugmentation:\n",
    "    def __init__(self, augmentations):\n",
    "        \"\"\"\n",
    "        Args:\n",
    "            augmentations (callable): Трансформації, що застосовуються до всіх кадрів.\n",
    "        \"\"\"\n",
    "        self.augmentations = augmentations\n",
    "\n",
    "    def __call__(self, frames):\n",
    "        # Ініціалізуємо однакове перетворення\n",
    "        seed = torch.randint(0, 2**32, (1,)).item()\n",
    "\n",
    "        # Застосовуємо однакові трансформації до всіх кадрів\n",
    "        augmented_frames = []\n",
    "        for frame in frames:\n",
    "            torch.manual_seed(seed)  # Встановлюємо однаковий seed\n",
    "            augmented_frames.append(self.augmentations(frame))\n",
    "        \n",
    "        return torch.stack(augmented_frames)"
   ]
  },
  {
   "cell_type": "code",
   "execution_count": 27,
   "id": "36aee231",
   "metadata": {
    "execution": {
     "iopub.execute_input": "2025-02-16T20:23:41.159919Z",
     "iopub.status.busy": "2025-02-16T20:23:41.159648Z",
     "iopub.status.idle": "2025-02-16T20:23:43.288901Z",
     "shell.execute_reply": "2025-02-16T20:23:43.287967Z"
    },
    "papermill": {
     "duration": 2.14262,
     "end_time": "2025-02-16T20:23:43.291958",
     "exception": false,
     "start_time": "2025-02-16T20:23:41.149338",
     "status": "completed"
    },
    "tags": []
   },
   "outputs": [
    {
     "name": "stdout",
     "output_type": "stream",
     "text": [
      "Label: tensor([1.], device='cuda:0')\n"
     ]
    },
    {
     "data": {
      "image/png": "[encoded data removed]",
      "text/plain": [
       "<Figure size 2000x1000 with 20 Axes>"
      ]
     },
     "metadata": {},
     "output_type": "display_data"
    }
   ],
   "source": [
    "def test_train_data():\n",
    "    device = torch.device('cuda' if torch.cuda.is_available() else 'cpu')\n",
    "    transfor = SameAugmentation(\n",
    "        transforms.Compose([\n",
    "            # Горизонтальне відображення\n",
    "            transforms.RandomHorizontalFlip(p=0.5),\n",
    "            # Легке афінне перетворення\n",
    "            transforms.RandomAffine(degrees=0, translate=(0.1, 0.1)),\n",
    "            # Легкий поворот\n",
    "            transforms.RandomRotation(degrees=5, fill=0),\n",
    "            # Розмиття для імітації відео низької якості\n",
    "            transforms.GaussianBlur(kernel_size=(3, 3), sigma=(0.1, 2.0)),\n",
    "            # Колірні зміни (яскравість, контраст)\n",
    "            transforms.ColorJitter(brightness=0.2, contrast=0.2, saturation=0.1, hue=0.05),\n",
    "            # Перетворення в сірий для певного шуму\n",
    "            transforms.RandomGrayscale(p=0.1),\n",
    "        ])\n",
    "    )\n",
    "    \n",
    "    dataset = VideoDataset(20, 'output_balenced_train.json', device, 'cache', (224, 224), transfor)\n",
    "\n",
    "    for i, batch in enumerate(dataset):\n",
    "        frames, label = batch\n",
    "        print(f\"Label: {label}\")\n",
    "\n",
    "        if frames.size() != torch.Size([20, 3, 224, 224]):\n",
    "            print(f\"Unexpected frame size: {frames.size()}\")\n",
    "\n",
    "        fig, axes = plt.subplots(1, 20, figsize=(20, 10))\n",
    "\n",
    "        for j in range(20):\n",
    "            ax = axes[j]\n",
    "            frame = frames[j].cpu().permute(1, 2, 0).numpy()\n",
    "            ax.imshow(frame)\n",
    "            ax.set_title(f\"Frame {j+1}\")\n",
    "            ax.axis('off')\n",
    "\n",
    "        plt.show()\n",
    "        break\n",
    "\n",
    "\n",
    "test_train_data()"
   ]
  },
  {
   "cell_type": "code",
   "execution_count": 28,
   "id": "0ac73f95",
   "metadata": {
    "execution": {
     "iopub.execute_input": "2025-02-16T20:23:43.319516Z",
     "iopub.status.busy": "2025-02-16T20:23:43.319238Z",
     "iopub.status.idle": "2025-02-16T20:23:44.543485Z",
     "shell.execute_reply": "2025-02-16T20:23:44.542633Z"
    },
    "papermill": {
     "duration": 1.239823,
     "end_time": "2025-02-16T20:23:44.545555",
     "exception": false,
     "start_time": "2025-02-16T20:23:43.305732",
     "status": "completed"
    },
    "tags": []
   },
   "outputs": [
    {
     "name": "stdout",
     "output_type": "stream",
     "text": [
      "Label: tensor([1.], device='cuda:0')\n"
     ]
    },
    {
     "data": {
      "image/png": "[encoded data removed]",
      "text/plain": [
       "<Figure size 2000x1000 with 20 Axes>"
      ]
     },
     "metadata": {},
     "output_type": "display_data"
    }
   ],
   "source": [
    "def test_test_data():\n",
    "    device = torch.device('cuda' if torch.cuda.is_available() else 'cpu')\n",
    "    dataset = VideoDataset(20, 'output_balenced_test.json', device, 'cache', (224, 224), None)\n",
    "\n",
    "    for i, batch in enumerate(dataset):\n",
    "        frames, label = batch\n",
    "        print(f\"Label: {label}\")\n",
    "\n",
    "        if frames.size() != torch.Size([20, 3, 224, 224]):\n",
    "            print(f\"Unexpected frame size: {frames.size()}\")\n",
    "\n",
    "        fig, axes = plt.subplots(1, 20, figsize=(20, 10))\n",
    "\n",
    "        for j in range(20):\n",
    "            ax = axes[j]\n",
    "            frame = frames[j].cpu().permute(1, 2, 0).numpy()\n",
    "            ax.imshow(frame)\n",
    "            ax.set_title(f\"Frame {j+1}\")\n",
    "            ax.axis('off')\n",
    "\n",
    "        plt.show()\n",
    "        break\n",
    "\n",
    "\n",
    "test_test_data()"
   ]
  },
  {
   "cell_type": "code",
   "execution_count": 29,
   "id": "d42e489c",
   "metadata": {
    "execution": {
     "iopub.execute_input": "2025-02-16T20:23:44.582088Z",
     "iopub.status.busy": "2025-02-16T20:23:44.581771Z",
     "iopub.status.idle": "2025-02-16T20:23:44.589621Z",
     "shell.execute_reply": "2025-02-16T20:23:44.588820Z"
    },
    "papermill": {
     "duration": 0.027454,
     "end_time": "2025-02-16T20:23:44.590786",
     "exception": false,
     "start_time": "2025-02-16T20:23:44.563332",
     "status": "completed"
    },
    "tags": []
   },
   "outputs": [],
   "source": [
    "class CNNLSTMClassifier(nn.Module):\n",
    "    def __init__(self,\n",
    "                 n_linear_hidden,\n",
    "                 lstm_hidden_dim,\n",
    "                 num_lstm_layers,\n",
    "                 dropout,\n",
    "                 ):\n",
    "        super(CNNLSTMClassifier, self).__init__()\n",
    "\n",
    "        self.cnn = models.efficientnet_b5(pretrained=True)\n",
    "        \n",
    "        self.feature_extractor = nn.Sequential(\n",
    "            *list(self.cnn.children())[:-1],\n",
    "            nn.AdaptiveAvgPool2d((1, 1))\n",
    "        )\n",
    "        \n",
    "        for param in self.feature_extractor.parameters():\n",
    "            param.requires_grad = True\n",
    "\n",
    "        self.feature_output_size = 2048\n",
    "        \n",
    "        self.lstm = nn.LSTM(input_size=self.feature_output_size,\n",
    "                            hidden_size=lstm_hidden_dim,\n",
    "                            num_layers=num_lstm_layers,\n",
    "                            dropout=0.1,\n",
    "                            batch_first=True,\n",
    "                            bidirectional=True)\n",
    "        \n",
    "        self.attention = nn.MultiheadAttention(embed_dim=lstm_hidden_dim * (2 if bidirectional else 1),\n",
    "                                               num_heads=num_heads,\n",
    "                                               dropout=0.1,\n",
    "                                               batch_first=True)\n",
    "\n",
    "        # Повнозв'язні шари для класифікації\n",
    "        self.fc1 = nn.Linear(2 * lstm_hidden_dim, n_linear_hidden)  # множимо на 2 через bidirectional LSTM\n",
    "        self.dropout1 = nn.Dropout(0.3)\n",
    "        self.fc2 = nn.Linear(n_linear_hidden, 1)\n",
    "\n",
    "    def forward(self, vid_frames):\n",
    "        # Витягання ознак для кожного кадру\n",
    "        batch_size, num_frames, channels, height, width = vid_frames.shape\n",
    "        vid_frames = vid_frames.view(batch_size * num_frames, channels, height, width)\n",
    "\n",
    "        vid_features = self.feature_extractor(vid_frames)\n",
    "\n",
    "        # Переформатовуємо ознаки для LSTM\n",
    "        vid_features = vid_features.view(batch_size, num_frames, -1)\n",
    "\n",
    "        lstm_out, _ = self.lstm(vid_features)  # (batch_size, num_frames, lstm_hidden_dim)\n",
    "\n",
    "        # Механізм multihead уваги\n",
    "        # Отримуємо вихід уваги та ваги\n",
    "        attention_out, attention_weights = self.attention(lstm_out, lstm_out, lstm_out)  # (batch_size, num_frames, lstm_hidden_dim)\n",
    "\n",
    "        # Агрегуємо ваги уваги по всіх \"головах\"\n",
    "        attention_weights = attention_weights.mean(dim=1)  # Середнє по num_heads, розмір (batch_size, num_frames)\n",
    "\n",
    "        # Використовуємо ваги для вагового середнього\n",
    "        weighted_out = torch.sum(lstm_out * attention_weights.unsqueeze(-1), dim=1)  # Розмір (batch_size, lstm_hidden_dim)\n",
    "\n",
    "        # Класифікація з дропаути\n",
    "        x = torch.relu(self.fc1(weighted_out))\n",
    "        x = self.dropout1(x)  # Додаємо дропаути після активації\n",
    "        x = self.fc2(x)\n",
    "        \n",
    "        return x"
   ]
  },
  {
   "cell_type": "code",
   "execution_count": 30,
   "id": "591d9519",
   "metadata": {
    "execution": {
     "iopub.execute_input": "2025-02-16T20:23:44.625922Z",
     "iopub.status.busy": "2025-02-16T20:23:44.625652Z",
     "iopub.status.idle": "2025-02-16T20:23:44.634650Z",
     "shell.execute_reply": "2025-02-16T20:23:44.633963Z"
    },
    "papermill": {
     "duration": 0.028238,
     "end_time": "2025-02-16T20:23:44.635940",
     "exception": false,
     "start_time": "2025-02-16T20:23:44.607702",
     "status": "completed"
    },
    "tags": []
   },
   "outputs": [],
   "source": [
    "class MyResNeXt(models.resnet.ResNet):\n",
    "    def __init__(self, checkpoint_path):\n",
    "        super(MyResNeXt, self).__init__(block=models.resnet.Bottleneck,\n",
    "                                        layers=[3, 4, 6, 3],\n",
    "                                        groups=32,\n",
    "                                        width_per_group=4)\n",
    "        checkpoint = torch.load(checkpoint_path)\n",
    "        self.load_state_dict(checkpoint)\n",
    "        self.fc = nn.Identity()\n",
    "\n",
    "        \n",
    "class ResNetLSTMClassifier(nn.Module):\n",
    "    def __init__(self,\n",
    "                 n_linear_hidden,\n",
    "                 lstm_hidden_dim,\n",
    "                 num_lstm_layers,\n",
    "                 dropout,\n",
    "                 bidirectional,\n",
    "                 ):\n",
    "        super(ResNetLSTMClassifier, self).__init__()\n",
    "\n",
    "        # Завантажуємо попередньо натреновану модель ResNeXt50\n",
    "        self.cnn = MyResNeXt('/home/ec2-user/.cache/torch/hub/checkpoints/resnext50_32x4d-1a0047aa.pth')\n",
    "        \n",
    "        # Розмір виходу ResNeXt (2048 для resnext50_32x4d)\n",
    "        self.feature_output_size = 2048\n",
    "        \n",
    "        # Заморожуємо шари до певного рівня\n",
    "        self.freeze_until(\"layer4.0.conv1.weight\")\n",
    "\n",
    "        # Додаємо шар для витягування глобальних ознак\n",
    "        self.feature_extractor = nn.Sequential(\n",
    "            *list(self.cnn.children())[:-1],  # Використовуємо всі шари до передостаннього\n",
    "            nn.AdaptiveMaxPool2d((1, 1))  # Адаптивне середнє значення\n",
    "        )\n",
    "\n",
    "        # LSTM для обробки послідовності ознак кожного кадру\n",
    "        self.lstm = nn.LSTM(input_size=self.feature_output_size,\n",
    "                            hidden_size=lstm_hidden_dim,\n",
    "                            num_layers=num_lstm_layers,\n",
    "                            batch_first=True,\n",
    "                            bidirectional=bidirectional)\n",
    "\n",
    "        # Додаємо LayerNorm до LSTM виходу\n",
    "        self.lstm_norm = nn.LayerNorm(lstm_hidden_dim * (2 if bidirectional else 1))\n",
    "\n",
    "        # Повнозв'язні шари для класифікації\n",
    "        if bidirectional:\n",
    "            self.fc1 = nn.Linear(2 * lstm_hidden_dim, n_linear_hidden)  # множимо на 2 через bidirectional LSTM\n",
    "        else:\n",
    "            self.fc1 = nn.Linear(lstm_hidden_dim, n_linear_hidden)\n",
    "\n",
    "        # Додаємо дропаути для кожного з класів\n",
    "        self.dropout1 = nn.Dropout(dropout)\n",
    "        self.fc2 = nn.Linear(n_linear_hidden, 1)\n",
    "        self.dropout2 = nn.Dropout(dropout)\n",
    "\n",
    "    def freeze_until(self, param_name):\n",
    "        \"\"\"Заморожує всі шари до `param_name`, включно.\"\"\"\n",
    "        found_name = False\n",
    "        for name, params in self.cnn.named_parameters():\n",
    "            if name == param_name:\n",
    "                found_name = True\n",
    "            params.requires_grad = found_name\n",
    "\n",
    "    def forward(self, vid_frames):\n",
    "        # Витягання ознак для кожного кадру\n",
    "        batch_size, num_frames, channels, height, width = vid_frames.shape\n",
    "        vid_frames = vid_frames.view(batch_size * num_frames, channels, height, width)\n",
    "\n",
    "        # Використовуємо ResNeXt як фічерний екстрактор\n",
    "        vid_features = self.feature_extractor(vid_frames)  # (batch_size*num_frames, feature_output_size, 1, 1)\n",
    "\n",
    "        vid_features = vid_features.view(batch_size, num_frames, -1)  # (batch_size, num_frames, feature_output_size)\n",
    "\n",
    "        # Обробка LSTM\n",
    "        lstm_out, _ = self.lstm(vid_features)  # (batch_size, num_frames, lstm_hidden_dim)\n",
    "\n",
    "        # Нормалізація LSTM виходу\n",
    "        lstm_out = torch.mean(lstm_out, dim=1) # Середнє по num_heads, розмір (batch_size, num_frames)\n",
    "        \n",
    "        lstm_out = self.lstm_norm(lstm_out)  # (batch_size, num_frames, lstm_hidden_dim)\n",
    "\n",
    "        # Класифікація з дропаути\n",
    "        x = torch.relu(self.fc1(lstm_out))\n",
    "        x = self.dropout1(x)  # Додаємо дропаути після активації\n",
    "        x = self.fc2(x)\n",
    "\n",
    "        return x"
   ]
  },
  {
   "cell_type": "code",
   "execution_count": 31,
   "id": "b95a991f",
   "metadata": {
    "execution": {
     "iopub.execute_input": "2025-02-16T20:23:44.670749Z",
     "iopub.status.busy": "2025-02-16T20:23:44.670469Z",
     "iopub.status.idle": "2025-02-16T20:23:44.680204Z",
     "shell.execute_reply": "2025-02-16T20:23:44.679491Z"
    },
    "papermill": {
     "duration": 0.028442,
     "end_time": "2025-02-16T20:23:44.681376",
     "exception": false,
     "start_time": "2025-02-16T20:23:44.652934",
     "status": "completed"
    },
    "tags": []
   },
   "outputs": [],
   "source": [
    "import torch\n",
    "import torch.nn as nn\n",
    "from torchvision import models\n",
    "\n",
    "class MyResNeXt(models.resnet.ResNet):\n",
    "    def __init__(self, checkpoint_path):\n",
    "        super(MyResNeXt, self).__init__(block=models.resnet.Bottleneck,\n",
    "                                        layers=[3, 4, 6, 3],\n",
    "                                        groups=32,\n",
    "                                        width_per_group=4)\n",
    "        checkpoint = torch.load(checkpoint_path)\n",
    "        self.load_state_dict(checkpoint)\n",
    "        self.fc = nn.Identity()\n",
    "\n",
    "class SelfAttention(nn.Module):\n",
    "    def __init__(self, hidden_dim):\n",
    "        super(SelfAttention, self).__init__()\n",
    "        self.hidden_dim = hidden_dim\n",
    "        self.projection = nn.Sequential(\n",
    "            nn.Linear(hidden_dim, hidden_dim),\n",
    "            nn.ReLU(True),\n",
    "            nn.Linear(hidden_dim, 1)\n",
    "        )\n",
    "\n",
    "    def forward(self, lstm_output):\n",
    "        energy = self.projection(lstm_output)\n",
    "        weights = torch.softmax(energy.squeeze(-1), dim=1)\n",
    "        attended_output = (lstm_output * weights.unsqueeze(-1)).sum(dim=1)\n",
    "        return attended_output\n",
    "\n",
    "class LSTMClassifier(nn.Module):\n",
    "    def __init__(self, n_linear_hidden, lstm_hidden_dim, num_lstm_layers, dropout):\n",
    "        super(LSTMClassifier, self).__init__()\n",
    "        self.cnn = MyResNeXt('/home/ec2-user/.cache/torch/hub/checkpoints/resnext50_32x4d-1a0047aa.pth')\n",
    "        self.feature_output_size = 2048\n",
    "        self.freeze_until(\"layer4.0.conv1.weight\")\n",
    "        self.feature_extractor = nn.Sequential(\n",
    "            *list(self.cnn.children())[:-2],\n",
    "            nn.AdaptiveAvgPool2d((1, 1))\n",
    "        )\n",
    "        self.lstm = nn.LSTM(input_size=self.feature_output_size,\n",
    "                            hidden_size=lstm_hidden_dim,\n",
    "                            num_layers=num_lstm_layers,\n",
    "                            dropout=dropout,\n",
    "                            batch_first=True,\n",
    "                            bidirectional=True)\n",
    "        self.attention = SelfAttention(lstm_hidden_dim * 2)\n",
    "        self.fc1 = nn.Linear(2 * lstm_hidden_dim, n_linear_hidden)\n",
    "        self.fc2 = nn.Linear(n_linear_hidden, 1)\n",
    "        self.dropout = nn.Dropout(dropout)\n",
    "        self.bn = nn.BatchNorm1d(40)\n",
    "\n",
    "    def freeze_until(self, param_name):\n",
    "        found_name = False\n",
    "        for name, params in self.cnn.named_parameters():\n",
    "            if name == param_name:\n",
    "                found_name = True\n",
    "            params.requires_grad = found_name\n",
    "\n",
    "    def forward(self, vid_frames):\n",
    "        batch_size, num_frames, channels, height, width = vid_frames.shape\n",
    "        vid_frames = vid_frames.view(batch_size * num_frames, channels, height, width)\n",
    "        features = self.cnn(vid_frames)\n",
    "        features = features.view(batch_size, num_frames, -1)\n",
    "        lstm_out, _ = self.lstm(features)\n",
    "        lstm_out = self.bn(lstm_out)\n",
    "        attended_output = self.attention(lstm_out)\n",
    "        x = torch.relu(self.fc1(attended_output))\n",
    "        x = self.dropout(x)\n",
    "        x = self.fc2(x)\n",
    "        return x"
   ]
  },
  {
   "cell_type": "code",
   "execution_count": 32,
   "id": "9c099009",
   "metadata": {
    "execution": {
     "iopub.execute_input": "2025-02-16T20:23:44.716450Z",
     "iopub.status.busy": "2025-02-16T20:23:44.716176Z",
     "iopub.status.idle": "2025-02-16T20:23:44.725528Z",
     "shell.execute_reply": "2025-02-16T20:23:44.724906Z"
    },
    "papermill": {
     "duration": 0.028192,
     "end_time": "2025-02-16T20:23:44.726670",
     "exception": false,
     "start_time": "2025-02-16T20:23:44.698478",
     "status": "completed"
    },
    "tags": []
   },
   "outputs": [],
   "source": [
    "import torch\n",
    "import torch.nn as nn\n",
    "import torchvision.models as models\n",
    "\n",
    "\n",
    "class Swish(nn.Module):\n",
    "    def forward(self, x):\n",
    "        return x * torch.sigmoid(x)\n",
    "    \n",
    "    \n",
    "class EfficientNetB1LSTM(nn.Module):\n",
    "    \"\"\"\n",
    "    Implementation of a EfficientNetB1 + LSTM that was one part of the DeepfakeDetection Challenge\n",
    "    Rank 90 private leaderboard solution https://www.kaggle.com/c/deepfake-detection-challenge/leaderboard \n",
    "\n",
    "    # Architecture inspired by https://www.kaggle.com/unkownhihi/dfdc-lrcn-inference\n",
    "    \n",
    "    To make it comparable with ResNet50 + LSTM it uses the same fully connected layers and \n",
    "    also uses 512 hidden units as it was described in the paper\n",
    "    DeeperForensics-1.0: A Large-Scale Dataset for Real-World Face Forgery Detection (https://arxiv.org/abs/2001.03024)\n",
    "\n",
    "    # parts from https://discuss.pytorch.org/t/solved-concatenate-time-distributed-cnn-with-lstm/15435/2\n",
    "    # and from https://discuss.pytorch.org/t/how-to-delete-layer-in-pretrained-model/17648/6 \n",
    "\n",
    "    # adapted by: Christopher Otto\n",
    "\n",
    "    Arguments:\n",
    "        hidden_size = 512  # as described in the Deeperforensics-1.0 paper\n",
    "    \"\"\"\n",
    "    def __init__(self, input_size=128, hidden_size=512, num_layers=2, num_classes=1):\n",
    "        super(EfficientNetB1LSTM, self).__init__()\n",
    "        self.b1 = models.efficientnet_b1(pretrained=True)\n",
    "        # delete b1 fc layer\n",
    "        self.b1 = nn.Sequential(*list(self.b1.children())[:-2],\n",
    "                   nn.Conv2d(1280, 128, 1, bias=False),\n",
    "                   nn.BatchNorm2d(128),\n",
    "                   Swish(),\n",
    "                   nn.AdaptiveAvgPool2d((1, 1)))\n",
    "        self.lstm = nn.LSTM(input_size=128, hidden_size=hidden_size, num_layers=num_layers, batch_first=True)\n",
    "        self.fc1 = nn.Linear(hidden_size, 64)\n",
    "        self.relu = nn.ReLU()\n",
    "        # another fc layer, because it seems to improve performance\n",
    "        self.fc2 = nn.Linear(64, num_classes)\n",
    "        \n",
    "        self.target_layer1 = self.b1[-5][-1][0]\n",
    "        self.target_layer2 = self.b1[-4]\n",
    "\n",
    "        self.activations = {}\n",
    "        self.gradients = {}\n",
    "\n",
    "        self.target_layer1.register_forward_hook(self.save_activations_hook(\"layer1\"))\n",
    "        self.target_layer1.register_backward_hook(self.save_gradients_hook(\"layer1\"))\n",
    "        self.target_layer2.register_forward_hook(self.save_activations_hook(\"layer2\"))\n",
    "        self.target_layer2.register_backward_hook(self.save_gradients_hook(\"layer2\"))\n",
    "\n",
    "    def save_activations_hook(self, layer_name):\n",
    "        def hook(module, input, output):\n",
    "            self.activations[layer_name] = output\n",
    "        return hook\n",
    "\n",
    "    def save_gradients_hook(self, layer_name):\n",
    "        def hook(module, grad_input, grad_output):\n",
    "            self.gradients[layer_name] = grad_output[0]\n",
    "        return hook\n",
    "\n",
    "    def forward(self, x):\n",
    "        # [32, 20, 3, 224, 224]\n",
    "        batch_size, num_frames, channels, height, width = x.size()\n",
    "        # combine batch and frame dimensions for 2d cnn\n",
    "        c_in = x.reshape(batch_size * num_frames, channels, height, width)\n",
    "        c_out = self.b1(c_in)\n",
    "        # separate batch and frame dimensions for lstm \n",
    "        c_out = c_out.view(batch_size, num_frames, -1)\n",
    "        r_out, _ = self.lstm(c_out)\n",
    "        # get last hidden state\n",
    "        out = self.relu(self.fc1(r_out[:, -1, :]))\n",
    "        result = self.fc2(out)\n",
    "        return result"
   ]
  },
  {
   "cell_type": "code",
   "execution_count": 33,
   "id": "0af9be5b",
   "metadata": {
    "execution": {
     "iopub.execute_input": "2025-02-16T20:23:44.761785Z",
     "iopub.status.busy": "2025-02-16T20:23:44.761472Z",
     "iopub.status.idle": "2025-02-16T20:23:44.768735Z",
     "shell.execute_reply": "2025-02-16T20:23:44.767906Z"
    },
    "papermill": {
     "duration": 0.026303,
     "end_time": "2025-02-16T20:23:44.770145",
     "exception": false,
     "start_time": "2025-02-16T20:23:44.743842",
     "status": "completed"
    },
    "tags": []
   },
   "outputs": [],
   "source": [
    "def plot_confusion_matrix(conf_matrix, title):\n",
    "    plt.figure(figsize=(8, 6))\n",
    "    sns.heatmap(conf_matrix, annot=True, fmt='d', cmap='Blues', xticklabels=['Real', 'Fake'], yticklabels=['Real', 'Fake'])\n",
    "    plt.xlabel('Predicted Label')\n",
    "    plt.ylabel('True Label')\n",
    "    plt.title(f'Confusion Matrix - {title}')\n",
    "    plt.show()\n",
    "\n",
    "\n",
    "def plot_training_metrics(train_losses, val_losses, train_accuracies, val_accuracies):\n",
    "    plt.figure(figsize=(12, 6))\n",
    "    plt.subplot(1, 2, 1)\n",
    "    plt.plot(train_losses, label='Train Loss')\n",
    "    plt.plot(val_losses, label='Validation Loss')\n",
    "    \n",
    "    minposs = val_losses.index(min(val_losses)) \n",
    "    plt.axvline(minposs, linestyle='--', color='r',label='Early Stopping Checkpoint')\n",
    "    \n",
    "    plt.xlabel('Epoch')\n",
    "    plt.ylabel('Loss')\n",
    "    plt.title('Loss per Epoch')\n",
    "    plt.legend()\n",
    "\n",
    "    plt.subplot(1, 2, 2)\n",
    "    plt.plot(train_accuracies, label='Train Accuracy')\n",
    "    plt.plot(val_accuracies, label='Validation Accuracy')\n",
    "    plt.xlabel('Epoch')\n",
    "    plt.ylabel('Accuracy')\n",
    "    plt.title('Accuracy per Epoch')\n",
    "    plt.legend()\n",
    "\n",
    "    plt.show()\n",
    "\n",
    "\n",
    "def plot_confusion_matrix_final(all_labels, all_preds, title):\n",
    "    conf_matrix = confusion_matrix(all_labels, all_preds)\n",
    "    plt.figure(figsize=(8, 6))\n",
    "    sns.heatmap(conf_matrix, annot=True, fmt='d', cmap='Blues', xticklabels=['Real', 'Fake'], yticklabels=['Real', 'Fake'])\n",
    "    plt.xlabel('Predicted Label')\n",
    "    plt.ylabel('True Label')\n",
    "    plt.title(f'Confusion Matrix - {title}')\n",
    "    plt.show()"
   ]
  },
  {
   "cell_type": "code",
   "execution_count": 34,
   "id": "13dac70f",
   "metadata": {
    "execution": {
     "iopub.execute_input": "2025-02-16T20:23:44.805821Z",
     "iopub.status.busy": "2025-02-16T20:23:44.805490Z",
     "iopub.status.idle": "2025-02-16T20:23:44.812243Z",
     "shell.execute_reply": "2025-02-16T20:23:44.811553Z"
    },
    "papermill": {
     "duration": 0.02598,
     "end_time": "2025-02-16T20:23:44.813495",
     "exception": false,
     "start_time": "2025-02-16T20:23:44.787515",
     "status": "completed"
    },
    "tags": []
   },
   "outputs": [],
   "source": [
    "class EarlyStopping:\n",
    "    \"\"\"Early stops the training if validation loss doesn't improve after a given patience.\"\"\"\n",
    "    def __init__(self, patience=7, verbose=False, delta=0, path='checkpoint.pt', trace_func=print):\n",
    "        \"\"\"\n",
    "        Args:\n",
    "            patience (int): How long to wait after last time validation loss improved.\n",
    "                            Default: 7\n",
    "            verbose (bool): If True, prints a message for each validation loss improvement.\n",
    "                            Default: False\n",
    "            delta (float): Minimum change in the monitored quantity to qualify as an improvement.\n",
    "                            Default: 0\n",
    "            path (str): Path for the checkpoint to be saved to.\n",
    "                            Default: 'checkpoint.pt'\n",
    "            trace_func (function): trace print function.\n",
    "                            Default: print\n",
    "        \"\"\"\n",
    "        self.patience = patience\n",
    "        self.verbose = verbose\n",
    "        self.counter = 0\n",
    "        self.best_val_loss = None\n",
    "        self.early_stop = False\n",
    "        self.val_loss_min = np.inf\n",
    "        self.delta = delta\n",
    "        self.path = path\n",
    "        self.trace_func = trace_func\n",
    "\n",
    "    def __call__(self, val_loss, model):\n",
    "        if np.isnan(val_loss):\n",
    "            self.trace_func(\"Validation loss is NaN. Ignoring this epoch.\")\n",
    "            return\n",
    "\n",
    "        if self.best_val_loss is None:\n",
    "            self.best_val_loss = val_loss\n",
    "            self.save_checkpoint(val_loss, model)\n",
    "        elif val_loss < self.best_val_loss - self.delta:\n",
    "            self.best_val_loss = val_loss\n",
    "            self.save_checkpoint(val_loss, model)\n",
    "            self.counter = 0\n",
    "        else:\n",
    "            self.counter += 1\n",
    "            self.trace_func(f'EarlyStopping counter: {self.counter} out of {self.patience}')\n",
    "            if self.counter >= self.patience:\n",
    "                self.early_stop = True\n",
    "\n",
    "    def save_checkpoint(self, val_loss, model):\n",
    "        '''Saves model when validation loss decreases.'''\n",
    "        if self.verbose:\n",
    "            self.trace_func(f'Validation loss decreased ({self.val_loss_min:.6f} --> {val_loss:.6f}).  Saving model ...')\n",
    "        torch.save(model.state_dict(), self.path)\n",
    "        self.val_loss_min = val_loss"
   ]
  },
  {
   "cell_type": "code",
   "execution_count": 35,
   "id": "67b69338",
   "metadata": {
    "execution": {
     "iopub.execute_input": "2025-02-16T20:23:44.849330Z",
     "iopub.status.busy": "2025-02-16T20:23:44.849055Z",
     "iopub.status.idle": "2025-02-16T20:23:44.859804Z",
     "shell.execute_reply": "2025-02-16T20:23:44.859083Z"
    },
    "papermill": {
     "duration": 0.030068,
     "end_time": "2025-02-16T20:23:44.861002",
     "exception": false,
     "start_time": "2025-02-16T20:23:44.830934",
     "status": "completed"
    },
    "tags": []
   },
   "outputs": [],
   "source": [
    "import torch\n",
    "import torch.nn as nn\n",
    "from torchvision.models import efficientnet_b0\n",
    "\n",
    "class LSTM_attention_with_CNN(nn.Module):\n",
    "    def __init__(self, hidden_dim=256, layer_dim=1, output_dim=1, \n",
    "                 bi_dir=True, n_head=4, dropout=0.1, seed=100, device='cuda'):\n",
    "        super(LSTM_attention_with_CNN, self).__init__()\n",
    "        torch.manual_seed(seed)\n",
    "        self.device = device\n",
    "        self.bi_dir_c = 2 if bi_dir else 1\n",
    "        self.hidden_dim = hidden_dim\n",
    "        self.layer_dim = layer_dim\n",
    "        self.kdim = hidden_dim * self.bi_dir_c\n",
    "        self.vdim = hidden_dim * self.bi_dir_c\n",
    "\n",
    "        # CNN feature extractor\n",
    "        self.cnn = models.resnext50_32x4d(weights=models.ResNeXt50_32X4D_Weights.IMAGENET1K_V2)\n",
    "        \n",
    "        # Розмір виходу ResNeXt (2048 для resnext50_32x4d)\n",
    "        self.feature_output_size = 2048\n",
    "        \n",
    "        # Заморожуємо шари до певного рівня\n",
    "        self.freeze_until('layer4.0.conv1.weight')\n",
    "\n",
    "        # Додаємо шар для витягування глобальних ознак\n",
    "        self.feature_extractor = nn.Sequential(\n",
    "            *list(self.cnn.children())[:-1],  # Використовуємо всі шари до передостаннього\n",
    "            nn.AdaptiveAvgPool2d((1, 1))  # Адаптивне середнє значення\n",
    "        )\n",
    "\n",
    "        # LSTM model\n",
    "        self.lstm = nn.LSTM(self.feature_output_size, hidden_dim, layer_dim, batch_first=True, bidirectional=bi_dir)\n",
    "\n",
    "        # Multihead attention\n",
    "        self.q = nn.Linear(hidden_dim * self.bi_dir_c, self.kdim)\n",
    "        self.k = nn.Linear(hidden_dim * self.bi_dir_c, self.kdim)\n",
    "        self.v = nn.Linear(hidden_dim * self.bi_dir_c, self.vdim)\n",
    "        \n",
    "        self.multihead_attention = nn.MultiheadAttention(\n",
    "            embed_dim=self.bi_dir_c * hidden_dim, \n",
    "            num_heads=n_head, \n",
    "            dropout=dropout, \n",
    "            kdim=self.kdim, \n",
    "            vdim=self.vdim, \n",
    "            batch_first=True\n",
    "        )\n",
    "        \n",
    "        self.norm = nn.LayerNorm([30, hidden_dim * self.bi_dir_c])  # Adjust size based on sequence length\n",
    "\n",
    "        # Fully connected layer\n",
    "        self.fc = nn.Linear(self.vdim, output_dim)\n",
    "\n",
    "    def attention(self, lstm_hidden_layer):\n",
    "        query = self.q(lstm_hidden_layer)\n",
    "        key = self.k(lstm_hidden_layer)\n",
    "        value = self.v(lstm_hidden_layer)\n",
    "        attention_out, weights = self.multihead_attention(query, key, value)\n",
    "        return attention_out\n",
    "    \n",
    "    def freeze_until(self, param_name):\n",
    "        \"\"\"Заморожує всі шари до `param_name`, включно.\"\"\"\n",
    "        found_name = False\n",
    "        for name, params in self.cnn.named_parameters():\n",
    "            if name == param_name:\n",
    "                found_name = True\n",
    "            params.requires_grad = found_name\n",
    "\n",
    "    def forward(self, x):\n",
    "        # x: (batch_size, seq_len, channels, height, width)\n",
    "        batch_size, seq_len, channels, height, width = x.size()\n",
    "\n",
    "        # Flatten batch and sequence dimensions for CNN\n",
    "        x = x.view(batch_size * seq_len, channels, height, width)\n",
    "        cnn_features = self.feature_extractor(x)  # (batch_size * seq_len, cnn_output_dim)\n",
    "\n",
    "        # Reshape back to sequence format\n",
    "        cnn_features = cnn_features.view(batch_size, seq_len, -1)  # (batch_size, seq_len, lstm_input_dim)\n",
    "\n",
    "        # Initialize LSTM hidden states\n",
    "        h0 = torch.zeros(self.layer_dim * self.bi_dir_c, batch_size, self.hidden_dim).to(self.device)\n",
    "        c0 = torch.zeros(self.layer_dim * self.bi_dir_c, batch_size, self.hidden_dim).to(self.device)\n",
    "\n",
    "        # LSTM forward pass\n",
    "        lstm_out, _ = self.lstm(cnn_features, (h0, c0))  # (batch_size, seq_len, hidden_dim * bi_dir_c)\n",
    "\n",
    "        # Attention mechanism\n",
    "        attention_out = self.attention(lstm_out)\n",
    "        norm_out = self.norm(attention_out + lstm_out)\n",
    "        norm_out = torch.mean(norm_out, dim=1)\n",
    "        # Fully connected output\n",
    "        out = self.fc(norm_out)  # (batch_size, seq_len, output_dim)\n",
    "        return out"
   ]
  },
  {
   "cell_type": "code",
   "execution_count": 36,
   "id": "64f74a00",
   "metadata": {
    "execution": {
     "iopub.execute_input": "2025-02-16T20:23:44.941395Z",
     "iopub.status.busy": "2025-02-16T20:23:44.941066Z",
     "iopub.status.idle": "2025-02-16T20:23:44.948257Z",
     "shell.execute_reply": "2025-02-16T20:23:44.947406Z"
    },
    "papermill": {
     "duration": 0.071428,
     "end_time": "2025-02-16T20:23:44.949763",
     "exception": false,
     "start_time": "2025-02-16T20:23:44.878335",
     "status": "completed"
    },
    "tags": []
   },
   "outputs": [],
   "source": [
    "class FeatureExtractor(nn.Module):\n",
    "    def __init__(self):\n",
    "        super(FeatureExtractor, self).__init__()\n",
    "        self.inception_v3 = models.inception_v3(pretrained=True)\n",
    "        self.inception_v3.fc = nn.Identity()  # Remove the final fully connected layer\n",
    "\n",
    "    def forward(self, x):\n",
    "        # Extract the primary output from InceptionV3\n",
    "        x = self.inception_v3(x)\n",
    "        if isinstance(x, torch.Tensor):\n",
    "            return x\n",
    "        else:\n",
    "            # If the output is an InceptionOutputs object, extract the primary output\n",
    "            return x.logits\n",
    "    \n",
    "    \n",
    "class VideoClassifier(nn.Module):\n",
    "    def __init__(self):\n",
    "        super(VideoClassifier, self).__init__()\n",
    "        self.feature_extractor = FeatureExtractor()\n",
    "        self.lstm = nn.LSTM(input_size=2048, hidden_size=128, batch_first=True, bidirectional=False)\n",
    "        self.gru = nn.GRU(input_size=128, hidden_size=128, batch_first=True)\n",
    "        self.dropout = nn.Dropout(0.5)\n",
    "        self.fc1 = nn.Linear(128, 64)\n",
    "        self.fc2 = nn.Linear(64, 1)\n",
    "\n",
    "    def forward(self, x):\n",
    "        batch_size, seq_len, channels, height, width = x.size()\n",
    "        x = x.view(batch_size * seq_len, channels, height, width)\n",
    "        x = self.feature_extractor(x)\n",
    "        x = x.view(batch_size, seq_len, -1)\n",
    "        \n",
    "        x, _ = self.lstm(x)\n",
    "        x, _ = self.gru(x)\n",
    "        x = x[:, -1, :]  # Take the last time step's output\n",
    "        x = self.dropout(x)\n",
    "        x = torch.relu(self.fc1(x))\n",
    "        x = self.fc2(x)\n",
    "        return x"
   ]
  },
  {
   "cell_type": "code",
   "execution_count": 37,
   "id": "3e998943",
   "metadata": {
    "execution": {
     "iopub.execute_input": "2025-02-16T20:23:44.986276Z",
     "iopub.status.busy": "2025-02-16T20:23:44.986009Z",
     "iopub.status.idle": "2025-02-16T20:23:44.997481Z",
     "shell.execute_reply": "2025-02-16T20:23:44.996705Z"
    },
    "papermill": {
     "duration": 0.030978,
     "end_time": "2025-02-16T20:23:44.998738",
     "exception": false,
     "start_time": "2025-02-16T20:23:44.967760",
     "status": "completed"
    },
    "tags": []
   },
   "outputs": [],
   "source": [
    "import torch\n",
    "import torch.nn as nn\n",
    "from torchvision import models\n",
    "from torch.optim import AdamW\n",
    "from torch.optim.lr_scheduler import CosineAnnealingLR\n",
    "import numpy as np\n",
    "from sklearn.metrics import roc_auc_score, precision_recall_fscore_support\n",
    "import torch.nn.functional as F\n",
    "\n",
    "\n",
    "class DynamicVideoClassifier(nn.Module):\n",
    "    def __init__(self, backbone='resnet50', hidden_size=512, num_layers=2, dropout=0.2):\n",
    "        super().__init__()\n",
    "\n",
    "        # List of valid backbones\n",
    "        self.valid_backbones = [\n",
    "            'vgg16', 'resnet18', 'resnet50', 'densenet121', 'mobilenet_v2', 'inception_v3'\n",
    "        ]\n",
    "        \n",
    "        # Ensure the provided backbone is valid\n",
    "        if backbone not in self.valid_backbones:\n",
    "            raise ValueError(f\"Invalid backbone. Choose from {', '.join(self.valid_backbones)}\")\n",
    "\n",
    "        # Load the CNN backbone and get feature size\n",
    "        self.backbone = getattr(models, backbone)(pretrained=True)\n",
    "        avg_size = 1\n",
    "        # print(self.backbone)\n",
    "        # Adjust feature size based on the model architecture\n",
    "        \n",
    "        if backbone in ['resnet18', 'resnet50']:\n",
    "            self.feature_size = self.backbone.fc.in_features\n",
    "            self.backbone = nn.Sequential(*list(self.backbone.children())[:-1])  # Remove fully connected layer\n",
    "        elif backbone == 'vgg16':\n",
    "            self.feature_size = self.backbone.classifier[0].in_features\n",
    "            self.backbone = nn.Sequential(*list(self.backbone.children())[:-1][0])  # Remove classifier\n",
    "            avg_size = 7\n",
    "        elif backbone == 'densenet121':\n",
    "            self.feature_size = self.backbone.classifier.in_features\n",
    "            self.backbone = nn.Sequential(*list(self.backbone.children())[:-1])  # Remove classifier\n",
    "        elif backbone == 'mobilenet_v2':\n",
    "            self.feature_size = self.backbone.classifier[1].in_features\n",
    "            self.backbone = nn.Sequential(*list(self.backbone.children())[:-1])  # Remove classifier\n",
    "        elif backbone == 'inception_v3':\n",
    "            self.feature_size = self.backbone.AuxLogits.fc.in_features\n",
    "            self.backbone = nn.Sequential(*list(self.backbone.children())[:-1])  # Remove classifier\n",
    "\n",
    "        self.freeze_until('layer4.0.conv1.weight')\n",
    "        \n",
    "        self.avg_pool = nn.AdaptiveAvgPool2d((avg_size, avg_size))  # Applies average pooling over spatial dimensions (H, W)\n",
    "        # LSTM for temporal features\n",
    "        self.lstm = nn.LSTM(\n",
    "            input_size=self.feature_size,\n",
    "            hidden_size=hidden_size,\n",
    "            num_layers=num_layers,\n",
    "            batch_first=True\n",
    "        )\n",
    "        \n",
    "        # Attention mechanism\n",
    "        #self.attention = nn.Sequential(\n",
    "        #    nn.Linear(hidden_size, hidden_size),\n",
    "        #    nn.Tanh(),\n",
    "        #    nn.Linear(hidden_size, 1)\n",
    "        #)\n",
    "        self.attention = nn.MultiheadAttention(hidden_size,2, dropout=dropout, batch_first=True)\n",
    "        self.layer_norm = nn.LayerNorm(hidden_size)\n",
    "        \n",
    "        # Final classification layer\n",
    "        self.classifier = nn.Sequential(\n",
    "            nn.Linear(hidden_size, hidden_size // 2),\n",
    "            nn.ReLU(),\n",
    "            nn.Dropout(dropout),\n",
    "            nn.Linear(hidden_size // 2, 1),\n",
    "        )\n",
    "\n",
    "    def freeze_until(self, param_name):\n",
    "        found_name = False\n",
    "        for name, params in self.backbone.named_parameters():\n",
    "            if name == param_name:\n",
    "                found_name = True\n",
    "            params.requires_grad = found_name\n",
    "    \n",
    "    def forward(self, x):\n",
    "        batch_size, seq_len, c, h, w = x.size()\n",
    "\n",
    "        \n",
    "        # CNN feature extraction\n",
    "        x = x.view(-1, c, h, w)\n",
    "        # print('Input X: ',x.shape)\n",
    "        x = self.backbone(x)\n",
    "        x = self.avg_pool(x)\n",
    "        # print('Output from CNN X: ',x.shape)\n",
    "        x = x.view(batch_size, seq_len, -1)  # Reshape to (batch_size, seq_len, feature_size)\n",
    "        \n",
    "        # LSTM processing\n",
    "        # print('Input LSTM: ',x.shape)\n",
    "        lstm_out, _ = self.lstm(x)\n",
    "        # print('Output LSTM: ',lstm_out.shape)\n",
    "        \n",
    "        # Attention mechanism\n",
    "        # print('Input Att: ',lstm_out.shape)\n",
    "        #attention_weights = self.attention(lstm_out)\n",
    "        #attention_weights = torch.softmax(attention_weights, dim=1)\n",
    "        #attended_features = torch.sum(attention_weights * lstm_out, dim=1)\n",
    "        # print('Output Att: ',attended_features.shape)\n",
    "        attended_features, attention_weights = self.attention(lstm_out, lstm_out, lstm_out)\n",
    "        attended_features = self.layer_norm(lstm_out + attended_features)\n",
    "        attended_features = torch.mean(attended_features, dim=1)  # Average across sequence\n",
    "        # print('Output Att: ',attended_features.shape)\n",
    "        # Classification\n",
    "        output = self.classifier(attended_features)\n",
    "        # print(\"Output: \",output.shape)\n",
    "        # print(\"SE: \",output.squeeze().shape)\n",
    "        return output\n"
   ]
  },
  {
   "cell_type": "code",
   "execution_count": 38,
   "id": "f279c3f8",
   "metadata": {
    "execution": {
     "iopub.execute_input": "2025-02-16T20:23:45.033911Z",
     "iopub.status.busy": "2025-02-16T20:23:45.033611Z",
     "iopub.status.idle": "2025-02-16T20:23:45.043235Z",
     "shell.execute_reply": "2025-02-16T20:23:45.042431Z"
    },
    "papermill": {
     "duration": 0.028596,
     "end_time": "2025-02-16T20:23:45.044481",
     "exception": false,
     "start_time": "2025-02-16T20:23:45.015885",
     "status": "completed"
    },
    "tags": []
   },
   "outputs": [],
   "source": [
    "class ResNetLSTMClassifier(nn.Module):\n",
    "    def __init__(self,\n",
    "                 n_linear_hidden,\n",
    "                 lstm_hidden_dim,\n",
    "                 num_lstm_layers,\n",
    "                 dropout,\n",
    "                 bidirectional,\n",
    "                 num_heads=4  # Кількість голів для multihead attention\n",
    "                 ):\n",
    "        super(ResNetLSTMClassifier, self).__init__()\n",
    "\n",
    "        # Завантажуємо попередньо натреновану модель ResNeXt50\n",
    "        self.cnn = models.resnext50_32x4d(weights=models.ResNeXt50_32X4D_Weights.IMAGENET1K_V2)\n",
    "        \n",
    "        # Розмір виходу ResNeXt (2048 для resnext50_32x4d)\n",
    "        self.feature_output_size = 2048\n",
    "        \n",
    "        # Заморожуємо шари до певного рівня\n",
    "        self.freeze_until(\"layer4.0.conv1.weight\")\n",
    "\n",
    "        # Додаємо шар для витягування глобальних ознак\n",
    "        self.feature_extractor = nn.Sequential(\n",
    "            *list(self.cnn.children())[:-1],  # Використовуємо всі шари до передостаннього\n",
    "            nn.AdaptiveMaxPool2d((1, 1))  # Адаптивне середнє значення\n",
    "        )\n",
    "\n",
    "        # LSTM для обробки послідовності ознак кожного кадру\n",
    "        self.lstm = nn.LSTM(input_size=self.feature_output_size,\n",
    "                            hidden_size=lstm_hidden_dim,\n",
    "                            num_layers=num_lstm_layers,\n",
    "                            dropout=0.1,\n",
    "                            batch_first=True,\n",
    "                            bidirectional=bidirectional)\n",
    "\n",
    "        # Механізм multihead уваги\n",
    "        self.attention = nn.MultiheadAttention(embed_dim=lstm_hidden_dim * (2 if bidirectional else 1),\n",
    "                                               num_heads=num_heads,\n",
    "                                               dropout=0.1,\n",
    "                                               batch_first=True)\n",
    "\n",
    "        # Додаємо LayerNorm до LSTM виходу\n",
    "        self.lstm_norm = nn.LayerNorm(lstm_hidden_dim * (2 if bidirectional else 1))\n",
    "\n",
    "        # Повнозв'язні шари для класифікації\n",
    "        if bidirectional:\n",
    "            self.fc1 = nn.Linear(2 * lstm_hidden_dim, n_linear_hidden)  # множимо на 2 через bidirectional LSTM\n",
    "        else:\n",
    "            self.fc1 = nn.Linear(lstm_hidden_dim, n_linear_hidden)\n",
    "\n",
    "        # Додаємо дропаути для кожного з класів\n",
    "        self.dropout1 = nn.Dropout(dropout)\n",
    "        self.fc2 = nn.Linear(n_linear_hidden, 1)\n",
    "        self.dropout2 = nn.Dropout(dropout)\n",
    "\n",
    "        # Додаємо LayerNorm до виходів перед останнім fully connected шаром\n",
    "        self.fc1_norm = nn.LayerNorm(n_linear_hidden)\n",
    "\n",
    "    def freeze_until(self, param_name):\n",
    "        \"\"\"Заморожує всі шари до `param_name`, включно.\"\"\"\n",
    "        found_name = False\n",
    "        for name, params in self.cnn.named_parameters():\n",
    "            if name == param_name:\n",
    "                found_name = True\n",
    "            params.requires_grad = found_name\n",
    "\n",
    "    def forward(self, vid_frames):\n",
    "        # Витягання ознак для кожного кадру\n",
    "        batch_size, num_frames, channels, height, width = vid_frames.shape\n",
    "        vid_frames = vid_frames.view(batch_size * num_frames, channels, height, width)\n",
    "\n",
    "        # Використовуємо ResNeXt як фічерний екстрактор\n",
    "        vid_features = self.feature_extractor(vid_frames)  # (batch_size*num_frames, feature_output_size, 1, 1)\n",
    "\n",
    "        vid_features = vid_features.view(batch_size, num_frames, -1)  # (batch_size, num_frames, feature_output_size)\n",
    "\n",
    "        # Обробка LSTM\n",
    "        lstm_out, _ = self.lstm(vid_features)  # (batch_size, num_frames, lstm_hidden_dim)\n",
    "\n",
    "        # Нормалізація LSTM виходу\n",
    "        lstm_out = self.lstm_norm(lstm_out)  # (batch_size, num_frames, lstm_hidden_dim)\n",
    "\n",
    "        # Механізм multihead уваги\n",
    "        # Отримуємо вихід уваги та ваги\n",
    "        attention_out, attention_weights = self.attention(lstm_out, lstm_out, lstm_out)  # (batch_size, num_frames, lstm_hidden_dim)\n",
    "\n",
    "        # Агрегуємо ваги уваги по всіх \"головах\"\n",
    "        attention_weights = attention_weights.mean(dim=1)  # Середнє по num_heads, розмір (batch_size, num_frames)\n",
    "\n",
    "        # Використовуємо ваги для вагового середнього\n",
    "        weighted_out = torch.sum(lstm_out * attention_weights.unsqueeze(-1), dim=1)  # Розмір (batch_size, lstm_hidden_dim)\n",
    "\n",
    "        # Нормалізація перед подачею на FC\n",
    "        weighted_out = self.fc1_norm(weighted_out)\n",
    "\n",
    "        # Класифікація з дропаути\n",
    "        x = torch.relu(self.fc1(weighted_out))\n",
    "        x = self.dropout1(x)  # Додаємо дропаути після активації\n",
    "        x = self.fc2(x)\n",
    "        x = self.dropout2(x)  # Додаємо дропаути перед виходом\n",
    "\n",
    "        return x"
   ]
  },
  {
   "cell_type": "code",
   "execution_count": 39,
   "id": "87277025",
   "metadata": {
    "execution": {
     "iopub.execute_input": "2025-02-16T20:23:45.080798Z",
     "iopub.status.busy": "2025-02-16T20:23:45.080511Z",
     "iopub.status.idle": "2025-02-16T20:23:45.091221Z",
     "shell.execute_reply": "2025-02-16T20:23:45.090540Z"
    },
    "papermill": {
     "duration": 0.029614,
     "end_time": "2025-02-16T20:23:45.092322",
     "exception": false,
     "start_time": "2025-02-16T20:23:45.062708",
     "status": "completed"
    },
    "tags": []
   },
   "outputs": [],
   "source": [
    "import torch\n",
    "import torch.nn as nn\n",
    "import torch.nn.functional as F\n",
    "from torchvision import models\n",
    "\n",
    "\n",
    "class MyResNeXt(models.resnet.ResNet):\n",
    "    def __init__(self, checkpoint_path):\n",
    "        super(MyResNeXt, self).__init__(block=models.resnet.Bottleneck,\n",
    "                                        layers=[3, 4, 6, 3],\n",
    "                                        groups=32,\n",
    "                                        width_per_group=4)\n",
    "        checkpoint = torch.load(checkpoint_path)\n",
    "        self.load_state_dict(checkpoint)\n",
    "        self.fc = nn.Identity()\n",
    "\n",
    "\n",
    "class PositionalEncoding(nn.Module):\n",
    "    def __init__(self, d_model, max_len=42):\n",
    "        super(PositionalEncoding, self).__init__()\n",
    "        pe = torch.zeros(max_len, d_model)\n",
    "        position = torch.arange(0, max_len, dtype=torch.float).unsqueeze(1)\n",
    "        div_term = torch.exp(torch.arange(0, d_model, 2).float() * (-torch.log(torch.tensor(10000.0)) / d_model))\n",
    "        pe[:, 0::2] = torch.sin(position * div_term)\n",
    "        pe[:, 1::2] = torch.cos(position * div_term)\n",
    "        self.pe = pe.unsqueeze(0)\n",
    "\n",
    "    def forward(self, x):\n",
    "        return x + self.pe[:, :x.size(1)].to(x.device)\n",
    "\n",
    "\n",
    "class ResNetTransformerClassifier(nn.Module):\n",
    "    def __init__(self, n_linear_hidden, transformer_dim, num_transformer_layers, num_heads, dropout):\n",
    "        super(ResNetTransformerClassifier, self).__init__()\n",
    "\n",
    "        # Завантажуємо попередньо натреновану модель ResNeXt50\n",
    "        self.cnn = models.resnext50_32x4d(weights=models.ResNeXt50_32X4D_Weights.IMAGENET1K_V2)\n",
    "\n",
    "        # Розмір виходу ResNeXt (2048 для resnext50_32x4d)\n",
    "        self.feature_output_size = 2048\n",
    "\n",
    "        # Додаємо шар для витягування глобальних ознак\n",
    "        self.feature_extractor = nn.Sequential(\n",
    "            *list(self.cnn.children())[:-1],  # Використовуємо всі шари до передостаннього\n",
    "            nn.AdaptiveMaxPool2d((1, 1)),  # Адаптивне середнє значення\n",
    "            nn.Flatten(),\n",
    "            nn.Dropout(0.4)\n",
    "        )\n",
    "\n",
    "        # Позиційне кодування для трансформера\n",
    "        self.positional_encoding = PositionalEncoding(transformer_dim)\n",
    "\n",
    "        # Трансформер для обробки послідовності\n",
    "        encoder_layer = nn.TransformerEncoderLayer(d_model=transformer_dim, nhead=num_heads, dropout=0.1)\n",
    "        self.transformer = nn.TransformerEncoder(encoder_layer, num_layers=num_transformer_layers)\n",
    "\n",
    "        # Нормалізація виходу трансформера\n",
    "        self.transformer_norm = nn.LayerNorm(transformer_dim)\n",
    "\n",
    "        # Повнозв’язні шари для класифікації\n",
    "        self.fc1 = nn.Linear(transformer_dim, n_linear_hidden)\n",
    "        self.dropout1 = nn.Dropout(dropout)\n",
    "        self.fc2 = nn.Linear(n_linear_hidden, 1)\n",
    "\n",
    "    def forward(self, vid_frames):\n",
    "        batch_size, num_frames, channels, height, width = vid_frames.shape\n",
    "        vid_frames = vid_frames.view(batch_size * num_frames, channels, height, width)\n",
    "\n",
    "        # Витягуємо ознаки з ResNeXt\n",
    "        vid_features = self.feature_extractor(vid_frames)\n",
    "        vid_features = vid_features.view(batch_size, num_frames, -1)  # (batch_size, num_frames, feature_output_size)\n",
    "\n",
    "        # Змінюємо розмірність для трансформера (num_frames, batch_size, feature_dim)\n",
    "        vid_features = self.positional_encoding(vid_features)\n",
    "        vid_features = vid_features.permute(1, 0, 2)  # Переміщуємо розмірності для трансформера\n",
    "\n",
    "        # Обробка через трансформер\n",
    "        transformer_out = self.transformer(vid_features)\n",
    "\n",
    "        # Повернення до розміру (batch_size, feature_dim)\n",
    "        transformer_out = transformer_out.mean(dim=0)  # Усереднюємо кадри по осі часу\n",
    "        transformer_out = self.transformer_norm(transformer_out)\n",
    "\n",
    "        # Класифікація\n",
    "        x = torch.relu(self.fc1(transformer_out))\n",
    "        x = self.dropout1(x)\n",
    "        x = self.fc2(x)\n",
    "\n",
    "        return x"
   ]
  },
  {
   "cell_type": "code",
   "execution_count": 40,
   "id": "0fe137a8",
   "metadata": {
    "execution": {
     "iopub.execute_input": "2025-02-16T20:23:45.127420Z",
     "iopub.status.busy": "2025-02-16T20:23:45.127153Z",
     "iopub.status.idle": "2025-02-16T20:23:45.136322Z",
     "shell.execute_reply": "2025-02-16T20:23:45.135631Z"
    },
    "papermill": {
     "duration": 0.0281,
     "end_time": "2025-02-16T20:23:45.137486",
     "exception": false,
     "start_time": "2025-02-16T20:23:45.109386",
     "status": "completed"
    },
    "tags": []
   },
   "outputs": [],
   "source": [
    "class PositionalEncoding(nn.Module):\n",
    "    def __init__(self, d_model, dropout=0.1, max_len=5000):\n",
    "        super().__init__()\n",
    "        self.dropout = nn.Dropout(p=dropout)\n",
    "        \n",
    "        position = torch.arange(max_len).unsqueeze(1)\n",
    "        div_term = torch.exp(torch.arange(0, d_model, 2) * (-math.log(10000.0)/d_model))\n",
    "        \n",
    "        pe = torch.zeros(max_len, d_model)\n",
    "        pe[:, 0::2] = torch.sin(position * div_term)\n",
    "        pe[:, 1::2] = torch.cos(position * div_term)\n",
    "        self.register_buffer('pe', pe)\n",
    "\n",
    "    def forward(self, x):\n",
    "        x = x + self.pe[:x.size(1)]  \n",
    "        return self.dropout(x)\n",
    "\n",
    "    \n",
    "class ResNetTransformerClassifier(nn.Module):\n",
    "    def __init__(self,\n",
    "                 n_linear_hidden=512,\n",
    "                 transformer_d_model=512,\n",
    "                 num_transformer_layers=4,\n",
    "                 num_heads=8,\n",
    "                 dim_feedforward=2048,\n",
    "                 dropout=0.2):\n",
    "        super().__init__()\n",
    "\n",
    "        # Завантаження попередньо натренованої ResNeXt\n",
    "        self.cnn = models.resnext50_32x4d(weights=models.ResNeXt50_32X4D_Weights.IMAGENET1K_V2)\n",
    "        self.feature_output_size = 2048\n",
    "        \n",
    "        # Фічерний екстрактор\n",
    "        self.feature_extractor = nn.Sequential(\n",
    "            *list(self.cnn.children())[:-1],\n",
    "            nn.AdaptiveAvgPool2d((1, 1)),\n",
    "            nn.Dropout(0.5)\n",
    "        )\n",
    "\n",
    "        # Проекція ознак для трансформера\n",
    "        self.feature_projection = nn.Linear(self.feature_output_size, transformer_d_model)\n",
    "        \n",
    "        # Позиційне кодування\n",
    "        self.positional_encoding = PositionalEncoding(transformer_d_model, dropout)\n",
    "        \n",
    "        # Трансформер\n",
    "        self.transformer_encoder = nn.TransformerEncoder(\n",
    "            nn.TransformerEncoderLayer(\n",
    "                d_model=transformer_d_model,\n",
    "                nhead=num_heads,\n",
    "                dim_feedforward=dim_feedforward,\n",
    "                dropout=dropout,\n",
    "                activation='gelu',\n",
    "                batch_first=True\n",
    "            ),\n",
    "            num_layers=num_transformer_layers\n",
    "        )\n",
    "\n",
    "        # Класифікатор\n",
    "        self.fc1 = nn.Linear(transformer_d_model, n_linear_hidden)\n",
    "        self.dropout = nn.Dropout(dropout)\n",
    "        self.fc2 = nn.Linear(n_linear_hidden, 1)\n",
    "\n",
    "    def forward(self, vid_frames):\n",
    "        batch_size, num_frames, C, H, W = vid_frames.shape\n",
    "        \n",
    "        # Витягнення ознак\n",
    "        features = self.feature_extractor(\n",
    "            vid_frames.view(batch_size*num_frames, C, H, W)\n",
    "        ).view(batch_size, num_frames, -1)\n",
    "        \n",
    "        # Проекція ознак\n",
    "        projected = self.feature_projection(features)\n",
    "        \n",
    "        # Позиційне кодування\n",
    "        projected = self.positional_encoding(projected)\n",
    "        \n",
    "        # Обробка трансформером\n",
    "        transformer_out = self.transformer_encoder(projected)\n",
    "        \n",
    "        # Агрегація (середнє значення)\n",
    "        aggregated = torch.mean(transformer_out, dim=1)\n",
    "        \n",
    "        # Класифікація\n",
    "        x = F.relu(self.fc1(aggregated))\n",
    "        x = self.dropout(x)\n",
    "        return self.fc2(x)"
   ]
  },
  {
   "cell_type": "code",
   "execution_count": 41,
   "id": "c63e7ea7",
   "metadata": {
    "execution": {
     "iopub.execute_input": "2025-02-16T20:23:45.172337Z",
     "iopub.status.busy": "2025-02-16T20:23:45.172091Z",
     "iopub.status.idle": "2025-02-16T20:23:45.183444Z",
     "shell.execute_reply": "2025-02-16T20:23:45.182786Z"
    },
    "papermill": {
     "duration": 0.03026,
     "end_time": "2025-02-16T20:23:45.184763",
     "exception": false,
     "start_time": "2025-02-16T20:23:45.154503",
     "status": "completed"
    },
    "tags": []
   },
   "outputs": [],
   "source": [
    "import torch\n",
    "import torch.nn as nn\n",
    "import torch.nn.functional as F\n",
    "from torchvision import models\n",
    "\n",
    "\n",
    "class MyResNeXt(models.resnet.ResNet):\n",
    "    def __init__(self, checkpoint_path):\n",
    "        super(MyResNeXt, self).__init__(\n",
    "            block=models.resnet.Bottleneck,\n",
    "            layers=[3, 4, 6, 3],\n",
    "            groups=32,\n",
    "            width_per_group=4\n",
    "        )\n",
    "        checkpoint = torch.load(checkpoint_path)\n",
    "        self.load_state_dict(checkpoint)\n",
    "        self.fc = nn.Identity()\n",
    "\n",
    "        \n",
    "class SelfAttention(nn.Module):\n",
    "    def __init__(self, lstm_hidden_dim):\n",
    "        super(SelfAttention, self).__init__()\n",
    "        self.query = nn.Linear(lstm_hidden_dim, lstm_hidden_dim)\n",
    "        self.key = nn.Linear(lstm_hidden_dim, lstm_hidden_dim)\n",
    "        self.value = nn.Linear(lstm_hidden_dim, lstm_hidden_dim)\n",
    "        self.softmax = nn.Softmax(dim=-1)\n",
    "\n",
    "    def forward(self, x):\n",
    "        query = self.query(x)\n",
    "        key = self.key(x)\n",
    "        value = self.value(x)\n",
    "        \n",
    "        attention_scores = torch.bmm(query, key.transpose(1, 2)) / (query.size(-1) ** 0.5)\n",
    "        attention_weights = self.softmax(attention_scores)\n",
    "        \n",
    "        attended_values = torch.bmm(attention_weights, value)\n",
    "        return attended_values\n",
    "\n",
    "    \n",
    "class SelfAttentionAggregation(nn.Module):\n",
    "    def __init__(self, hidden_dim):\n",
    "        super(SelfAttentionAggregation, self).__init__()\n",
    "        self.attention_weights = nn.Linear(hidden_dim, 1)\n",
    "\n",
    "    def forward(self, attention_output):\n",
    "        # attention_output: (batch_size, seq_length, hidden_dim)\n",
    "        weights = torch.softmax(self.attention_weights(attention_output), dim=1)  # (batch_size, seq_length, 1)\n",
    "        video_representation = torch.sum(weights * attention_output, dim=1)  # (batch_size, hidden_dim)\n",
    "        return video_representation\n",
    "\n",
    "    \n",
    "class ResNetLSTMClassifier(nn.Module):\n",
    "    def __init__(self, n_linear_hidden, lstm_hidden_dim,\n",
    "                 num_lstm_layers, dropout, bidirectional):\n",
    "        super(ResNetLSTMClassifier, self).__init__()\n",
    "        \n",
    "        self.cnn = models.resnext50_32x4d(weights=models.ResNeXt50_32X4D_Weights.IMAGENET1K_V2)\n",
    "        self.feature_output_size = 2048\n",
    "        \n",
    "        self.feature_extractor = nn.Sequential(\n",
    "            *list(self.cnn.children())[:-2],\n",
    "            nn.AdaptiveMaxPool2d((1,1)),\n",
    "            nn.Dropout(0.3)\n",
    "        )\n",
    "        \n",
    "        self.lstm = nn.LSTM(\n",
    "            input_size=self.feature_output_size,\n",
    "            hidden_size=lstm_hidden_dim,\n",
    "            num_layers=num_lstm_layers,\n",
    "            dropout=0.1,\n",
    "            batch_first=True,\n",
    "            bidirectional=bidirectional\n",
    "        )\n",
    "        \n",
    "        self.self_attention = SelfAttention(lstm_hidden_dim * (2 if bidirectional else 1))\n",
    "        \n",
    "        self.lstm_norm = nn.LayerNorm(lstm_hidden_dim * (2 if bidirectional else 1))\n",
    "        \n",
    "        self.attention_aggregation = SelfAttentionAggregation(lstm_hidden_dim * (2 if bidirectional else 1))\n",
    "        \n",
    "        fc_input_dim = lstm_hidden_dim * (2 if bidirectional else 1)\n",
    "        \n",
    "        self.fc1 = nn.Linear(fc_input_dim, n_linear_hidden)\n",
    "        self.dropout1 = nn.Dropout(dropout)\n",
    "        self.fc2 = nn.Linear(n_linear_hidden, 1)\n",
    "\n",
    "    def forward(self, vid_frames):\n",
    "        batch_size, num_frames, channels, height, width = vid_frames.shape\n",
    "        \n",
    "        vid_frames = vid_frames.view(batch_size * num_frames, channels, height, width)\n",
    "        \n",
    "        vid_features = self.feature_extractor(vid_frames)\n",
    "        vid_features = vid_features.view(batch_size, num_frames, -1)\n",
    "        \n",
    "        lstm_out, _ = self.lstm(vid_features)\n",
    "        \n",
    "        attention_out = self.self_attention(lstm_out)\n",
    "        \n",
    "        residual = self.lstm_norm(lstm_out + attention_out)\n",
    "        \n",
    "        x = self.attention_aggregation(residual)\n",
    "        \n",
    "        x = F.relu(self.fc1(x))\n",
    "        x = self.dropout1(x)\n",
    "        x = self.fc2(x)\n",
    "        \n",
    "        return x"
   ]
  },
  {
   "cell_type": "code",
   "execution_count": 42,
   "id": "f666d232",
   "metadata": {
    "execution": {
     "iopub.execute_input": "2025-02-16T20:23:45.220885Z",
     "iopub.status.busy": "2025-02-16T20:23:45.220621Z",
     "iopub.status.idle": "2025-02-16T20:23:45.235798Z",
     "shell.execute_reply": "2025-02-16T20:23:45.235131Z"
    },
    "papermill": {
     "duration": 0.034747,
     "end_time": "2025-02-16T20:23:45.236932",
     "exception": false,
     "start_time": "2025-02-16T20:23:45.202185",
     "status": "completed"
    },
    "tags": []
   },
   "outputs": [],
   "source": [
    "def train_model(model, hparms: dict[str, Union[int, float]], path_train: str, path_test: str, size: tuple[int], device, name: str, checkpoint_path: str = None):\n",
    "    batch_size = hparms['batch_size']\n",
    "    num_epochs = hparms['num_epochs']\n",
    "    n_frames = hparms['n_frames']\n",
    "    lr = hparms['lr']\n",
    "\n",
    "    gamma = hparms['gamma']\n",
    "    milestones = hparms['milestones']\n",
    "\n",
    "    model.to(device)\n",
    "    \n",
    "    early_stopping = EarlyStopping(patience=15, verbose=True, delta=0.0001, path=f'early_stopping_{name}_lstm_checkpoint.pt')\n",
    "\n",
    "    criterion = nn.BCEWithLogitsLoss()\n",
    "    optimizer = optim.Adam(model.parameters(), lr=lr, weight_decay=5e-4)\n",
    "    scheduler = optim.lr_scheduler.MultiStepLR(optimizer, milestones=milestones, gamma=gamma)\n",
    "    \n",
    "    transfor_train = SameAugmentation(\n",
    "        transforms.Compose([\n",
    "            transforms.RandomHorizontalFlip(p=0.5),\n",
    "            transforms.RandomAffine(degrees=0, translate=(0.1, 0.1)),\n",
    "            transforms.RandomRotation(degrees=5, fill=0),\n",
    "            transforms.ColorJitter(brightness=0.2, contrast=0.2, saturation=0.1, hue=0.05),\n",
    "            transforms.RandomGrayscale(p=0.1),\n",
    "            transforms.Normalize(mean=[0.485, 0.456, 0.406], std=[0.229, 0.224, 0.225])\n",
    "        ])\n",
    "    )\n",
    "    \n",
    "    transfor = SameAugmentation(\n",
    "        transforms.Compose([\n",
    "            transforms.Normalize(mean=[0.485, 0.456, 0.406], std=[0.229, 0.224, 0.225]),\n",
    "        ])\n",
    "    )\n",
    "\n",
    "    train_dataset = VideoDataset(n_frames, path_train, device, 'cache', size, transfor_train)\n",
    "    test_dataset = VideoDataset(n_frames, path_test, device, 'cache', size, transfor)\n",
    "\n",
    "    train_loader = torch.utils.data.DataLoader(train_dataset, batch_size=batch_size, shuffle=True)\n",
    "    val_loader = torch.utils.data.DataLoader(test_dataset, batch_size=batch_size, shuffle=True)\n",
    "\n",
    "    start_time = datetime.datetime.now()\n",
    "    print(f'Start time: {start_time}, using device: {device}')\n",
    "\n",
    "    best_loss = np.inf\n",
    "    train_losses, val_losses = [], []\n",
    "    train_accuracies, val_accuracies = [], []\n",
    "    epoch_times = []\n",
    "\n",
    "    if checkpoint_path:\n",
    "        checkpoint = torch.load(checkpoint_path)\n",
    "        model.load_state_dict(checkpoint['model_state_dict'])\n",
    "        optimizer.load_state_dict(checkpoint['optimizer_state_dict'])\n",
    "        scheduler.load_state_dict(checkpoint['scheduler_state_dict'])\n",
    "        start_epoch = checkpoint['epoch']\n",
    "    else:\n",
    "        start_epoch = 0\n",
    "\n",
    "    for epoch in range(start_epoch, num_epochs):\n",
    "        epoch_start_time = time.time()\n",
    "        epoch_t_loss, epoch_v_loss = 0, 0\n",
    "        t_count, t_count_wrong = 0, 0\n",
    "        all_train_labels, all_train_preds = [], []\n",
    "        test_probs = []\n",
    "\n",
    "        model.train()\n",
    "\n",
    "        for video_data, labels in tqdm(train_loader, desc=f\"Epoch {epoch + 1}/{num_epochs} Training\", leave=False):\n",
    "            video_data, labels = video_data.to(device), labels.to(device)\n",
    "\n",
    "            optimizer.zero_grad()\n",
    "            output = model(video_data)\n",
    "            \n",
    "            loss = criterion(output, labels)\n",
    "\n",
    "            epoch_t_loss += loss.item()\n",
    "            output = torch.sigmoid(output).round()\n",
    "            n_wrong = (labels - output).abs().sum().item()\n",
    "            t_count_wrong += n_wrong\n",
    "            t_count += labels.shape[0]\n",
    "\n",
    "            all_train_labels.extend(labels.detach().cpu().numpy())\n",
    "            all_train_preds.extend(output.detach().cpu().numpy())\n",
    "            \n",
    "            loss.backward()\n",
    "            optimizer.step()\n",
    "\n",
    "        train_loss = epoch_t_loss / len(train_loader)\n",
    "        train_accuracy = (t_count - t_count_wrong) / t_count\n",
    "        train_losses.append(train_loss)\n",
    "        train_accuracies.append(train_accuracy)\n",
    "\n",
    "        model.eval()\n",
    "        \n",
    "        all_val_labels, all_val_preds = [], []\n",
    "        with torch.no_grad():\n",
    "            for video_data, labels in tqdm(val_loader, desc=\"Validation\", leave=False):\n",
    "                video_data, labels = video_data.to(device), labels.to(device)\n",
    "\n",
    "                output = model(video_data)\n",
    "                output_probs = torch.sigmoid(output)\n",
    "                test_probs.extend(output_probs.cpu().numpy())\n",
    "                \n",
    "                loss = criterion(output, labels)\n",
    "                epoch_v_loss += loss.item()\n",
    "\n",
    "                output = torch.sigmoid(output).round()\n",
    "                all_val_labels.extend(labels.cpu().numpy())\n",
    "                all_val_preds.extend(output.cpu().numpy())\n",
    "\n",
    "        val_loss = epoch_v_loss / len(val_loader)\n",
    "        val_accuracy = np.sum(np.array(all_val_labels) == np.array(all_val_preds)) / len(all_val_labels)\n",
    "        val_losses.append(val_loss)\n",
    "        val_accuracies.append(val_accuracy)\n",
    "\n",
    "        epoch_exec_time = time.time() - epoch_start_time\n",
    "        epoch_times.append(epoch_exec_time)\n",
    "        print(f'Epoch {epoch + 1}/{num_epochs} - Train loss: {train_loss:.4f}, Train accuracy: {train_accuracy:.4f}')\n",
    "        print(f'Validation loss: {val_loss:.4f}, Validation accuracy: {val_accuracy:.4f}, Time: {epoch_exec_time:.2f}s')\n",
    "        val_auc = roc_auc_score(all_val_labels, test_probs)\n",
    "        print(f'Validation AUC: {val_auc}')\n",
    "        \n",
    "        scheduler.step()\n",
    "\n",
    "        torch.save({\n",
    "                    'model_state_dict': model.state_dict(),\n",
    "                     'optimizer_state_dict': optimizer.state_dict(),\n",
    "                     'scheduler_state_dict': scheduler.state_dict(),\n",
    "                      'epoch': epoch + 1\n",
    "                      }, f'best_{name}_lstm_checkpoint_epoch_{epoch + 1}.pt'\n",
    "        )\n",
    "        \n",
    "        early_stopping(val_loss, model)\n",
    "        if early_stopping.early_stop:\n",
    "            print(\"Early stopping\")\n",
    "            break\n",
    "\n",
    "    print(f'Training completed in: {str(datetime.datetime.now() - start_time)}')\n",
    "\n",
    "    plot_training_metrics(train_losses, val_losses, train_accuracies, val_accuracies)\n",
    "\n",
    "    print(\"Train Classification Report:\")\n",
    "    print(classification_report(all_train_labels, all_train_preds))\n",
    "    plot_confusion_matrix_final(all_train_labels, all_train_preds, 'Train')\n",
    "\n",
    "    print(\"Validation Classification Report:\")\n",
    "    print(classification_report(all_val_labels, all_val_preds))\n",
    "    plot_confusion_matrix_final(all_val_labels, all_val_preds, 'Validation')\n",
    "    val_auc = roc_auc_score(all_val_labels, test_probs)\n",
    "    print(f'Validation AUC: {val_auc}')"
   ]
  },
  {
   "cell_type": "code",
   "execution_count": 43,
   "id": "6bff924b",
   "metadata": {
    "execution": {
     "iopub.execute_input": "2025-02-16T20:23:45.272825Z",
     "iopub.status.busy": "2025-02-16T20:23:45.272540Z",
     "iopub.status.idle": "2025-02-16T20:23:45.283891Z",
     "shell.execute_reply": "2025-02-16T20:23:45.283215Z"
    },
    "papermill": {
     "duration": 0.030826,
     "end_time": "2025-02-16T20:23:45.285033",
     "exception": false,
     "start_time": "2025-02-16T20:23:45.254207",
     "status": "completed"
    },
    "tags": []
   },
   "outputs": [],
   "source": [
    "import torch\n",
    "import torch.nn as nn\n",
    "import torch.nn.functional as F\n",
    "\n",
    "\n",
    "class MyResNeXt(models.resnet.ResNet):\n",
    "    def __init__(self, checkpoint_path):\n",
    "        super(MyResNeXt, self).__init__(block=models.resnet.Bottleneck,\n",
    "                                        layers=[3, 4, 6, 3],\n",
    "                                        groups=32,\n",
    "                                        width_per_group=4)\n",
    "        checkpoint = torch.load(checkpoint_path)\n",
    "        self.load_state_dict(checkpoint)\n",
    "        self.fc = nn.Identity()\n",
    "\n",
    "        \n",
    "class SelfAttention(nn.Module):\n",
    "    def __init__(self, lstm_hidden_dim):\n",
    "        super(SelfAttention, self).__init__()\n",
    "        self.query = nn.Linear(lstm_hidden_dim, lstm_hidden_dim)\n",
    "        self.key = nn.Linear(lstm_hidden_dim, lstm_hidden_dim)\n",
    "        self.value = nn.Linear(lstm_hidden_dim, lstm_hidden_dim)\n",
    "        self.softmax = nn.Softmax(dim=-1)\n",
    "        self.dropout = nn.Dropout(0.2)  # Dropout у самоувазі\n",
    "\n",
    "    def forward(self, x):\n",
    "        query = self.query(x)\n",
    "        key = self.key(x)\n",
    "        value = self.value(x)\n",
    "\n",
    "        attention_scores = torch.bmm(query, key.transpose(1, 2)) / (query.size(-1) ** 0.5)\n",
    "        attention_weights = self.softmax(attention_scores)\n",
    "        attention_weights = self.dropout(attention_weights)  # Додаємо Dropout\n",
    "\n",
    "        attended_values = torch.bmm(attention_weights, value)\n",
    "        return attended_values\n",
    "\n",
    "    \n",
    "class ResNetLSTMClassifier(nn.Module):\n",
    "    def __init__(self,\n",
    "                 n_linear_hidden,\n",
    "                 lstm_hidden_dim,\n",
    "                 num_lstm_layers,\n",
    "                 dropout,\n",
    "                 bidirectional,\n",
    "                 ):\n",
    "        super(ResNetLSTMClassifier, self).__init__()\n",
    "\n",
    "        # Завантажуємо попередньо натреновану модель ResNeXt50\n",
    "        self.cnn = MyResNeXt('/home/ec2-user/.cache/torch/hub/checkpoints/resnext50_32x4d-1a0047aa.pth')\n",
    "\n",
    "        # Розмір виходу ResNeXt (2048 для resnext50_32x4d)\n",
    "        self.feature_output_size = 2048\n",
    "\n",
    "        # Заморожуємо шари до певного рівня\n",
    "        #self.freeze_until(\"layer4.0.conv1.weight\")\n",
    "\n",
    "        # Додаємо шар для витягування глобальних ознак\n",
    "        self.feature_extractor = nn.Sequential(\n",
    "            *list(self.cnn.children())[:-1],\n",
    "            nn.Dropout(0.4)\n",
    "        )\n",
    "\n",
    "        # LSTM для обробки послідовності ознак кожного кадру\n",
    "        self.lstm = nn.LSTM(input_size=self.feature_output_size,\n",
    "                            hidden_size=lstm_hidden_dim,\n",
    "                            num_layers=num_lstm_layers,\n",
    "                            dropout=0.1,\n",
    "                            batch_first=True,\n",
    "                            bidirectional=bidirectional)\n",
    "\n",
    "        # Додаємо LayerNorm до LSTM виходу\n",
    "        self.lstm_norm = nn.LayerNorm(lstm_hidden_dim * (2 if bidirectional else 1))\n",
    "\n",
    "        # Шар самоуваги\n",
    "        self.attention = SelfAttention(lstm_hidden_dim * (2 if bidirectional else 1))\n",
    "\n",
    "        # Повнозв'язні шари для класифікації\n",
    "        if bidirectional:\n",
    "            self.fc1 = nn.Linear(2 * lstm_hidden_dim, n_linear_hidden)  # множимо на 2 через bidirectional LSTM\n",
    "        else:\n",
    "            self.fc1 = nn.Linear(lstm_hidden_dim, n_linear_hidden)\n",
    "\n",
    "        # Додаємо дропаути для кожного з класів\n",
    "        self.dropout1 = nn.Dropout(dropout)\n",
    "        self.fc2 = nn.Linear(n_linear_hidden, 1)\n",
    "\n",
    "    def freeze_until(self, param_name):\n",
    "        \"\"\"Заморожує всі шари до param_name, включно.\"\"\"\n",
    "        found_name = False\n",
    "        for name, params in self.cnn.named_parameters():\n",
    "            if name == param_name:\n",
    "                found_name = True\n",
    "            params.requires_grad = found_name\n",
    "\n",
    "    def forward(self, vid_frames):\n",
    "        # Витягання ознак для кожного кадру\n",
    "        batch_size, num_frames, channels, height, width = vid_frames.shape\n",
    "        vid_frames = vid_frames.view(batch_size * num_frames, channels, height, width)\n",
    "\n",
    "        # Використовуємо ResNeXt як фічерний екстрактор\n",
    "        vid_features = self.feature_extractor(vid_frames)  # (batch_size*num_frames, feature_output_size, 1, 1)\n",
    "\n",
    "        vid_features = vid_features.view(batch_size, num_frames, -1)  # (batch_size, num_frames, feature_output_size)\n",
    "\n",
    "        # Обробка LSTM\n",
    "        lstm_out, _ = self.lstm(vid_features)  # (batch_size, num_frames, lstm_hidden_dim)\n",
    "\n",
    "        # Нормалізація LSTM виходу\n",
    "        lstm_out = self.lstm_norm(lstm_out)  # (batch_size, num_frames, lstm_hidden_dim)\n",
    "\n",
    "        # Додаємо механізм самоуваги\n",
    "        attended_out = self.attention(lstm_out)  # (batch_size, num_frames, lstm_hidden_dim)\n",
    "\n",
    "        # Утворення фінального представлення\n",
    "        attended_out = torch.mean(attended_out, dim=1)  # Середнє по num_frames, розмір (batch_size, lstm_hidden_dim)\n",
    "\n",
    "        # Класифікація з дропаути\n",
    "        x = torch.relu(self.fc1(attended_out))\n",
    "        x = self.dropout1(x)  # Додаємо дропаути після активації\n",
    "        x = self.fc2(x)\n",
    "\n",
    "        return x"
   ]
  },
  {
   "cell_type": "code",
   "execution_count": 44,
   "id": "81e70c54",
   "metadata": {
    "execution": {
     "iopub.execute_input": "2025-02-16T20:23:45.320317Z",
     "iopub.status.busy": "2025-02-16T20:23:45.320072Z",
     "iopub.status.idle": "2025-02-16T20:23:45.332270Z",
     "shell.execute_reply": "2025-02-16T20:23:45.331630Z"
    },
    "papermill": {
     "duration": 0.031002,
     "end_time": "2025-02-16T20:23:45.333351",
     "exception": false,
     "start_time": "2025-02-16T20:23:45.302349",
     "status": "completed"
    },
    "tags": []
   },
   "outputs": [],
   "source": [
    "import torch\n",
    "import torch.nn as nn\n",
    "import torch.nn.functional as F\n",
    "\n",
    "\n",
    "class MyResNeXt(models.resnet.ResNet):\n",
    "    def __init__(self, checkpoint_path):\n",
    "        super(MyResNeXt, self).__init__(\n",
    "            block=models.resnet.Bottleneck,\n",
    "            layers=[3, 4, 6, 3],\n",
    "            groups=32,\n",
    "            width_per_group=4\n",
    "        )\n",
    "        \n",
    "        checkpoint = torch.load(checkpoint_path)\n",
    "        self.load_state_dict(checkpoint)\n",
    "        \n",
    "        self.fc = nn.Identity()\n",
    "\n",
    "\n",
    "class SelfAttention(nn.Module):\n",
    "    def __init__(self, lstm_hidden_dim):\n",
    "        super(SelfAttention, self).__init__()\n",
    "        self.query = nn.Linear(lstm_hidden_dim, lstm_hidden_dim)\n",
    "        self.key = nn.Linear(lstm_hidden_dim, lstm_hidden_dim)\n",
    "        self.value = nn.Linear(lstm_hidden_dim, lstm_hidden_dim)\n",
    "        self.softmax = nn.Softmax(dim=-1)\n",
    "        self.dropout = nn.Dropout(0.2)\n",
    "\n",
    "    def forward(self, x):\n",
    "        query = self.query(x)\n",
    "        key = self.key(x)\n",
    "        value = self.value(x)\n",
    "\n",
    "        attention_scores = torch.bmm(query, key.transpose(1, 2)) / (query.size(-1) ** 0.5)\n",
    "        attention_weights = self.softmax(attention_scores)\n",
    "        attention_weights = self.dropout(attention_weights) \n",
    "\n",
    "        attended_values = torch.bmm(attention_weights, value)\n",
    "        return attended_values\n",
    "\n",
    "\n",
    "class SelfAttentionPooling(nn.Module):\n",
    "    \"\"\"\n",
    "    Implementation of SelfAttentionPooling \n",
    "    Original Paper: Self-Attention Encoding and Pooling for Speaker Recognition\n",
    "    https://arxiv.org/pdf/2008.01077v1.pdf\n",
    "    \"\"\"\n",
    "    def __init__(self, input_dim):\n",
    "        super(SelfAttentionPooling, self).__init__()\n",
    "        self.W = nn.Linear(input_dim, 1)\n",
    "        \n",
    "    def forward(self, batch_rep):\n",
    "        \"\"\"\n",
    "        input:\n",
    "            batch_rep : size (N, T, H), N: batch size, T: sequence length, H: Hidden dimension\n",
    "        \n",
    "        attention_weight:\n",
    "            att_w : size (N, T, 1)\n",
    "        \n",
    "        return:\n",
    "            utter_rep: size (N, H)\n",
    "        \"\"\"\n",
    "        softmax = nn.functional.softmax\n",
    "        att_w = softmax(self.W(batch_rep).squeeze(-1)).unsqueeze(-1)\n",
    "        utter_rep = torch.sum(batch_rep * att_w, dim=1)\n",
    "\n",
    "        return utter_rep\n",
    "\n",
    "    \n",
    "class ResNetLSTMClassifier(nn.Module):\n",
    "    def __init__(self, n_linear_hidden, lstm_hidden_dim, \n",
    "                 num_lstm_layers, dropout, bidirectional, freeze):\n",
    "        super(ResNetLSTMClassifier, self).__init__()\n",
    "\n",
    "        # ResNeXt50 як фічерний екстрактор\n",
    "        self.cnn = models.resnext50_32x4d(weights=models.ResNeXt50_32X4D_Weights.IMAGENET1K_V2)\n",
    "\n",
    "        self.feature_output_size = 128\n",
    "\n",
    "        if freeze:\n",
    "            self.freeze_until(\"layer4.0.conv1.weight\")\n",
    "\n",
    "        self.feature_extractor = nn.Sequential(\n",
    "            *list(self.cnn.children())[:-2],\n",
    "            nn.Conv2d(2048, 128, 1, bias=False),\n",
    "            nn.BatchNorm2d(128),\n",
    "            nn.SiLU(),\n",
    "            nn.AdaptiveAvgPool2d((1, 1))\n",
    "        )\n",
    "        \n",
    "        # LSTM для обробки послідовності\n",
    "        self.lstm = nn.LSTM(\n",
    "            input_size=self.feature_output_size,\n",
    "            hidden_size=lstm_hidden_dim,\n",
    "            num_layers=num_lstm_layers,\n",
    "            batch_first=True,\n",
    "            dropout=dropout,\n",
    "            bidirectional=bidirectional\n",
    "        )\n",
    "    \n",
    "        self.lstm_norm = nn.LayerNorm(lstm_hidden_dim * (2 if bidirectional else 1))\n",
    "\n",
    "        self.fc1 = nn.Linear(lstm_hidden_dim * (2 if bidirectional else 1), n_linear_hidden)\n",
    "        self.dropout1 = nn.Dropout(dropout)\n",
    "        self.fc2 = nn.Linear(n_linear_hidden, 1)\n",
    "\n",
    "    def freeze_until(self, param_name):\n",
    "        \"\"\"Заморожує всі шари до param_name, включно.\"\"\"\n",
    "        found_name = False\n",
    "        for name, params in self.cnn.named_parameters():\n",
    "            params.requires_grad = False\n",
    "            if name == param_name:\n",
    "                found_name = True\n",
    "                break\n",
    "\n",
    "    def forward(self, vid_frames):\n",
    "        batch_size, num_frames, channels, height, width = vid_frames.shape\n",
    "        vid_frames = vid_frames.view(batch_size * num_frames, channels, height, width)\n",
    "\n",
    "        # CNN Feature Extraction\n",
    "        vid_features = self.feature_extractor(vid_frames)  # (batch_size*num_frames, feature_output_size, 1, 1)\n",
    "        vid_features = vid_features.view(batch_size, num_frames, -1)  # (batch_size, num_frames, feature_output_size)\n",
    "\n",
    "        # LSTM обробка послідовності\n",
    "        lstm_out, _ = self.lstm(vid_features)  # (batch_size, num_frames, lstm_hidden_dim)\n",
    "        lstm_out = self.lstm_norm(lstm_out)  # (batch_size, num_frames, lstm_hidden_dim)\n",
    "        \n",
    "        # Класифікація\n",
    "        x = F.relu(self.fc1(lstm_out[:, -1, :]))\n",
    "        x = self.dropout1(x)\n",
    "        x = self.fc2(x)\n",
    "\n",
    "        return x"
   ]
  },
  {
   "cell_type": "code",
   "execution_count": 45,
   "id": "98abed80",
   "metadata": {
    "execution": {
     "iopub.execute_input": "2025-02-16T20:23:45.368618Z",
     "iopub.status.busy": "2025-02-16T20:23:45.368346Z",
     "iopub.status.idle": "2025-02-16T20:23:45.380744Z",
     "shell.execute_reply": "2025-02-16T20:23:45.380066Z"
    },
    "papermill": {
     "duration": 0.031275,
     "end_time": "2025-02-16T20:23:45.381955",
     "exception": false,
     "start_time": "2025-02-16T20:23:45.350680",
     "status": "completed"
    },
    "tags": []
   },
   "outputs": [],
   "source": [
    "import torch\n",
    "import torch.nn as nn\n",
    "import torch.nn.functional as F\n",
    "from torchvision import models\n",
    "import cv2\n",
    "import numpy as np\n",
    "\n",
    "\n",
    "class MyResNeXt(models.resnet.ResNet):\n",
    "    def __init__(self, checkpoint_path):\n",
    "        super(MyResNeXt, self).__init__(\n",
    "            block=models.resnet.Bottleneck,\n",
    "            layers=[3, 4, 6, 3],\n",
    "            groups=32,\n",
    "            width_per_group=4\n",
    "        )\n",
    "        checkpoint = torch.load(checkpoint_path)\n",
    "        self.load_state_dict(checkpoint)\n",
    "        self.fc = nn.Identity()\n",
    "\n",
    "\n",
    "class SelfAttention(nn.Module):\n",
    "    def __init__(self, lstm_hidden_dim):\n",
    "        super(SelfAttention, self).__init__()\n",
    "        self.query = nn.Linear(lstm_hidden_dim, lstm_hidden_dim)\n",
    "        self.key = nn.Linear(lstm_hidden_dim, lstm_hidden_dim)\n",
    "        self.value = nn.Linear(lstm_hidden_dim, lstm_hidden_dim)\n",
    "        self.softmax = nn.Softmax(dim=-1)\n",
    "        self.dropout = nn.Dropout(0.2)\n",
    "\n",
    "    def forward(self, x):\n",
    "        query = self.query(x)\n",
    "        key = self.key(x)\n",
    "        value = self.value(x)\n",
    "\n",
    "        attention_scores = torch.bmm(query, key.transpose(1, 2)) / (query.size(-1) ** 0.5)\n",
    "        attention_weights = self.softmax(attention_scores)\n",
    "        attention_weights = self.dropout(attention_weights)\n",
    "\n",
    "        attended_values = torch.bmm(attention_weights, value)\n",
    "        return attended_values\n",
    "\n",
    "\n",
    "class Swish(nn.Module):\n",
    "    def forward(self, x):\n",
    "        return x * torch.sigmoid(x)\n",
    "\n",
    "\n",
    "class ResNetLSTMClassifier(nn.Module):\n",
    "    def __init__(self, n_linear_hidden, lstm_hidden_dim, num_lstm_layers,\n",
    "                 dropout, bidirectional, freeze):\n",
    "        super(ResNetLSTMClassifier, self).__init__()\n",
    "\n",
    "        self.cnn = models.efficientnet_b3(weights=models.EfficientNet_B3_Weights.IMAGENET1K_V1)\n",
    "        self.feature_output_size = 1536\n",
    "\n",
    "        if freeze:\n",
    "            self.freeze_until(\"layer4.0.conv1.weight\")\n",
    "\n",
    "        self.feature_extractor = nn.Sequential(\n",
    "            *list(self.cnn.children())[:-1],\n",
    "        )\n",
    "\n",
    "        self.lstm = nn.LSTM(\n",
    "            input_size=self.feature_output_size,\n",
    "            hidden_size=lstm_hidden_dim,\n",
    "            num_layers=num_lstm_layers,\n",
    "            dropout=0.1,\n",
    "            batch_first=True,\n",
    "            bidirectional=bidirectional\n",
    "        )\n",
    "\n",
    "        self.attention = SelfAttention(lstm_hidden_dim * (2 if bidirectional else 1))\n",
    "\n",
    "        self.norm = nn.LayerNorm(lstm_hidden_dim * (2 if bidirectional else 1))\n",
    "\n",
    "        self.classifier = nn.Sequential(\n",
    "            nn.Linear(lstm_hidden_dim * (2 if bidirectional else 1), lstm_hidden_dim // 2),\n",
    "            nn.ReLU(),\n",
    "            nn.Dropout(dropout),\n",
    "            nn.Linear(lstm_hidden_dim // 2, 1),\n",
    "        )\n",
    "\n",
    "        self.target_layer1 = self.feature_extractor[-2][-1][0]\n",
    "\n",
    "        self.activations = {}\n",
    "        self.gradients = {}\n",
    "\n",
    "        self.target_layer1.register_forward_hook(self.save_activations_hook(\"layer1\"))\n",
    "        self.target_layer1.register_backward_hook(self.save_gradients_hook(\"layer1\"))\n",
    "\n",
    "    def save_activations_hook(self, layer_name):\n",
    "        def hook(module, input, output):\n",
    "            self.activations[layer_name] = output\n",
    "        return hook\n",
    "\n",
    "    def save_gradients_hook(self, layer_name):\n",
    "        def hook(module, grad_input, grad_output):\n",
    "            self.gradients[layer_name] = grad_output[0]\n",
    "        return hook\n",
    "\n",
    "    def freeze_until(self, param_name):\n",
    "        found = False\n",
    "        for name, param in self.cnn.named_parameters():\n",
    "            if name == param_name:\n",
    "                found = True\n",
    "            param.requires_grad = found\n",
    "\n",
    "    def forward(self, vid_frames):\n",
    "        batch_size, num_frames, channels, height, width = vid_frames.shape\n",
    "        vid_frames = vid_frames.view(batch_size * num_frames, channels, height, width)\n",
    "\n",
    "        vid_features = self.feature_extractor(vid_frames)  # (batch_size*num_frames, feature_output_size, 1, 1)\n",
    "\n",
    "        vid_features = vid_features.view(batch_size, num_frames, -1)  # (batch_size, num_frames, feature_output_size)\n",
    "\n",
    "        lstm_out, _ = self.lstm(vid_features)  # (batch_size, num_frames, lstm_hidden_dim)\n",
    "\n",
    "        attended_out = self.attention(lstm_out)\n",
    "        attended_out =  self.norm(attended_out + lstm_out)\n",
    "        attended_out = torch.mean(attended_out, dim=1)\n",
    "\n",
    "        output = self.classifier(attended_out)\n",
    "\n",
    "        return output"
   ]
  },
  {
   "cell_type": "code",
   "execution_count": 46,
   "id": "b71948ef",
   "metadata": {
    "execution": {
     "iopub.execute_input": "2025-02-16T20:23:45.417217Z",
     "iopub.status.busy": "2025-02-16T20:23:45.416949Z",
     "iopub.status.idle": "2025-02-17T01:44:23.622971Z",
     "shell.execute_reply": "2025-02-17T01:44:23.622125Z"
    },
    "papermill": {
     "duration": 19238.225166,
     "end_time": "2025-02-17T01:44:23.624401",
     "exception": false,
     "start_time": "2025-02-16T20:23:45.399235",
     "status": "completed"
    },
    "tags": []
   },
   "outputs": [
    {
     "name": "stderr",
     "output_type": "stream",
     "text": [
      "Downloading: \"https://download.pytorch.org/models/efficientnet_b3_rwightman-b3899882.pth\" to /root/.cache/torch/hub/checkpoints/efficientnet_b3_rwightman-b3899882.pth\n",
      "100%|██████████| 47.2M/47.2M [00:00<00:00, 176MB/s]\n"
     ]
    },
    {
     "name": "stdout",
     "output_type": "stream",
     "text": [
      "Training ResNetLSTMClassifier20x224 model:\n",
      "Hyperparameters {'n_linear_hidden': 128, 'lstm_hidden_dim': 64, 'num_lstm_layers': 2, 'dropout': 0.4, 'bidirectional': True, 'freeze': False, 'n_frames': 20, 'batch_size': 4, 'lr': 1e-05, 'num_epochs': 20, 'gamma': 0.1, 'milestones': [32, 64]}\n",
      "Start time: 2025-02-16 20:23:46.168472, using device: cuda\n"
     ]
    },
    {
     "name": "stderr",
     "output_type": "stream",
     "text": [
      "                                                             \r"
     ]
    },
    {
     "name": "stdout",
     "output_type": "stream",
     "text": [
      "Epoch 1/20 - Train loss: 0.6679, Train accuracy: 0.5934\n",
      "Validation loss: 0.6391, Validation accuracy: 0.6517, Time: 959.94s\n",
      "Validation AUC: 0.7495584664066525\n",
      "Validation loss decreased (inf --> 0.639125).  Saving model ...\n"
     ]
    },
    {
     "name": "stderr",
     "output_type": "stream",
     "text": [
      "                                                             \r"
     ]
    },
    {
     "name": "stdout",
     "output_type": "stream",
     "text": [
      "Epoch 2/20 - Train loss: 0.6078, Train accuracy: 0.6842\n",
      "Validation loss: 0.5995, Validation accuracy: 0.7030, Time: 958.64s\n",
      "Validation AUC: 0.7729229523879608\n",
      "Validation loss decreased (0.639125 --> 0.599540).  Saving model ...\n"
     ]
    },
    {
     "name": "stderr",
     "output_type": "stream",
     "text": [
      "                                                             \r"
     ]
    },
    {
     "name": "stdout",
     "output_type": "stream",
     "text": [
      "Epoch 3/20 - Train loss: 0.5361, Train accuracy: 0.7552\n",
      "Validation loss: 0.5581, Validation accuracy: 0.7137, Time: 959.81s\n",
      "Validation AUC: 0.7957539186106409\n",
      "Validation loss decreased (0.599540 --> 0.558082).  Saving model ...\n"
     ]
    },
    {
     "name": "stderr",
     "output_type": "stream",
     "text": [
      "                                                             \r"
     ]
    },
    {
     "name": "stdout",
     "output_type": "stream",
     "text": [
      "Epoch 4/20 - Train loss: 0.4796, Train accuracy: 0.7947\n",
      "Validation loss: 0.5081, Validation accuracy: 0.7543, Time: 959.15s\n",
      "Validation AUC: 0.8437890941202442\n",
      "Validation loss decreased (0.558082 --> 0.508094).  Saving model ...\n"
     ]
    },
    {
     "name": "stderr",
     "output_type": "stream",
     "text": [
      "                                                             \r"
     ]
    },
    {
     "name": "stdout",
     "output_type": "stream",
     "text": [
      "Epoch 5/20 - Train loss: 0.4532, Train accuracy: 0.8093\n",
      "Validation loss: 0.4773, Validation accuracy: 0.7821, Time: 958.85s\n",
      "Validation AUC: 0.8653874457281625\n",
      "Validation loss decreased (0.508094 --> 0.477255).  Saving model ...\n"
     ]
    },
    {
     "name": "stderr",
     "output_type": "stream",
     "text": [
      "                                                             \r"
     ]
    },
    {
     "name": "stdout",
     "output_type": "stream",
     "text": [
      "Epoch 6/20 - Train loss: 0.4016, Train accuracy: 0.8340\n",
      "Validation loss: 0.4505, Validation accuracy: 0.8013, Time: 961.02s\n",
      "Validation AUC: 0.8796085068805652\n",
      "Validation loss decreased (0.477255 --> 0.450548).  Saving model ...\n"
     ]
    },
    {
     "name": "stderr",
     "output_type": "stream",
     "text": [
      "                                                             \r"
     ]
    },
    {
     "name": "stdout",
     "output_type": "stream",
     "text": [
      "Epoch 7/20 - Train loss: 0.3907, Train accuracy: 0.8403\n",
      "Validation loss: 0.4226, Validation accuracy: 0.8120, Time: 965.93s\n",
      "Validation AUC: 0.8900949297225698\n",
      "Validation loss decreased (0.450548 --> 0.422622).  Saving model ...\n"
     ]
    },
    {
     "name": "stderr",
     "output_type": "stream",
     "text": [
      "                                                             \r"
     ]
    },
    {
     "name": "stdout",
     "output_type": "stream",
     "text": [
      "Epoch 8/20 - Train loss: 0.3604, Train accuracy: 0.8585\n",
      "Validation loss: 0.4383, Validation accuracy: 0.8077, Time: 962.48s\n",
      "Validation AUC: 0.8875561115608211\n",
      "EarlyStopping counter: 1 out of 15\n"
     ]
    },
    {
     "name": "stderr",
     "output_type": "stream",
     "text": [
      "                                                             \r"
     ]
    },
    {
     "name": "stdout",
     "output_type": "stream",
     "text": [
      "Epoch 9/20 - Train loss: 0.3293, Train accuracy: 0.8707\n",
      "Validation loss: 0.5005, Validation accuracy: 0.7714, Time: 958.00s\n",
      "Validation AUC: 0.8751379792479211\n",
      "EarlyStopping counter: 2 out of 15\n"
     ]
    },
    {
     "name": "stderr",
     "output_type": "stream",
     "text": [
      "                                                             \r"
     ]
    },
    {
     "name": "stdout",
     "output_type": "stream",
     "text": [
      "Epoch 10/20 - Train loss: 0.3123, Train accuracy: 0.8814\n",
      "Validation loss: 0.3600, Validation accuracy: 0.8526, Time: 962.30s\n",
      "Validation AUC: 0.919880050040474\n",
      "Validation loss decreased (0.422622 --> 0.359978).  Saving model ...\n"
     ]
    },
    {
     "name": "stderr",
     "output_type": "stream",
     "text": [
      "                                                             \r"
     ]
    },
    {
     "name": "stdout",
     "output_type": "stream",
     "text": [
      "Epoch 11/20 - Train loss: 0.2933, Train accuracy: 0.8879\n",
      "Validation loss: 0.3533, Validation accuracy: 0.8504, Time: 961.65s\n",
      "Validation AUC: 0.9269813820001473\n",
      "Validation loss decreased (0.359978 --> 0.353271).  Saving model ...\n"
     ]
    },
    {
     "name": "stderr",
     "output_type": "stream",
     "text": [
      "                                                             \r"
     ]
    },
    {
     "name": "stdout",
     "output_type": "stream",
     "text": [
      "Epoch 12/20 - Train loss: 0.2691, Train accuracy: 0.8975\n",
      "Validation loss: 0.4607, Validation accuracy: 0.8034, Time: 961.19s\n",
      "Validation AUC: 0.9008021193612481\n",
      "EarlyStopping counter: 1 out of 15\n"
     ]
    },
    {
     "name": "stderr",
     "output_type": "stream",
     "text": [
      "                                                             \r"
     ]
    },
    {
     "name": "stdout",
     "output_type": "stream",
     "text": [
      "Epoch 13/20 - Train loss: 0.2546, Train accuracy: 0.9040\n",
      "Validation loss: 0.3701, Validation accuracy: 0.8504, Time: 958.25s\n",
      "Validation AUC: 0.9191809551843404\n",
      "EarlyStopping counter: 2 out of 15\n"
     ]
    },
    {
     "name": "stderr",
     "output_type": "stream",
     "text": [
      "                                                             \r"
     ]
    },
    {
     "name": "stdout",
     "output_type": "stream",
     "text": [
      "Epoch 14/20 - Train loss: 0.2336, Train accuracy: 0.9168\n",
      "Validation loss: 0.4475, Validation accuracy: 0.8056, Time: 959.51s\n",
      "Validation AUC: 0.9191073662521158\n",
      "EarlyStopping counter: 3 out of 15\n"
     ]
    },
    {
     "name": "stderr",
     "output_type": "stream",
     "text": [
      "                                                             \r"
     ]
    },
    {
     "name": "stdout",
     "output_type": "stream",
     "text": [
      "Epoch 15/20 - Train loss: 0.2157, Train accuracy: 0.9235\n",
      "Validation loss: 0.3638, Validation accuracy: 0.8526, Time: 962.49s\n",
      "Validation AUC: 0.927073368165428\n",
      "EarlyStopping counter: 4 out of 15\n"
     ]
    },
    {
     "name": "stderr",
     "output_type": "stream",
     "text": [
      "                                                             \r"
     ]
    },
    {
     "name": "stdout",
     "output_type": "stream",
     "text": [
      "Epoch 16/20 - Train loss: 0.2102, Train accuracy: 0.9217\n",
      "Validation loss: 0.4976, Validation accuracy: 0.7991, Time: 963.42s\n",
      "Validation AUC: 0.8985208624622856\n",
      "EarlyStopping counter: 5 out of 15\n"
     ]
    },
    {
     "name": "stderr",
     "output_type": "stream",
     "text": [
      "                                                             \r"
     ]
    },
    {
     "name": "stdout",
     "output_type": "stream",
     "text": [
      "Epoch 17/20 - Train loss: 0.1892, Train accuracy: 0.9363\n",
      "Validation loss: 0.4873, Validation accuracy: 0.8056, Time: 964.67s\n",
      "Validation AUC: 0.9057693722864081\n",
      "EarlyStopping counter: 6 out of 15\n"
     ]
    },
    {
     "name": "stderr",
     "output_type": "stream",
     "text": [
      "                                                             \r"
     ]
    },
    {
     "name": "stdout",
     "output_type": "stream",
     "text": [
      "Epoch 18/20 - Train loss: 0.1834, Train accuracy: 0.9337\n",
      "Validation loss: 0.3903, Validation accuracy: 0.8440, Time: 964.77s\n",
      "Validation AUC: 0.93303407167562\n",
      "EarlyStopping counter: 7 out of 15\n"
     ]
    },
    {
     "name": "stderr",
     "output_type": "stream",
     "text": [
      "                                                             \r"
     ]
    },
    {
     "name": "stdout",
     "output_type": "stream",
     "text": [
      "Epoch 19/20 - Train loss: 0.1771, Train accuracy: 0.9357\n",
      "Validation loss: 0.5772, Validation accuracy: 0.7949, Time: 963.69s\n",
      "Validation AUC: 0.9027154315990874\n",
      "EarlyStopping counter: 8 out of 15\n"
     ]
    },
    {
     "name": "stderr",
     "output_type": "stream",
     "text": [
      "                                                             \r"
     ]
    },
    {
     "name": "stdout",
     "output_type": "stream",
     "text": [
      "Epoch 20/20 - Train loss: 0.1731, Train accuracy: 0.9383\n",
      "Validation loss: 0.4227, Validation accuracy: 0.8226, Time: 962.46s\n",
      "Validation AUC: 0.9322429906542057\n",
      "EarlyStopping counter: 9 out of 15\n",
      "Training completed in: 5:20:36.507161\n"
     ]
    },
    {
     "data": {
      "image/png": "[encoded data removed]",
      "text/plain": [
       "<Figure size 1200x600 with 2 Axes>"
      ]
     },
     "metadata": {},
     "output_type": "display_data"
    },
    {
     "name": "stdout",
     "output_type": "stream",
     "text": [
      "Train Classification Report:\n",
      "              precision    recall  f1-score   support\n",
      "\n",
      "         0.0       0.94      0.94      0.94      1981\n",
      "         1.0       0.93      0.94      0.94      1863\n",
      "\n",
      "    accuracy                           0.94      3844\n",
      "   macro avg       0.94      0.94      0.94      3844\n",
      "weighted avg       0.94      0.94      0.94      3844\n",
      "\n"
     ]
    },
    {
     "data": {
      "image/png": "[encoded data removed]",
      "text/plain": [
       "<Figure size 800x600 with 2 Axes>"
      ]
     },
     "metadata": {},
     "output_type": "display_data"
    },
    {
     "name": "stdout",
     "output_type": "stream",
     "text": [
      "Validation Classification Report:\n",
      "              precision    recall  f1-score   support\n",
      "\n",
      "         0.0       0.89      0.77      0.83       254\n",
      "         1.0       0.77      0.88      0.82       214\n",
      "\n",
      "    accuracy                           0.82       468\n",
      "   macro avg       0.83      0.83      0.82       468\n",
      "weighted avg       0.83      0.82      0.82       468\n",
      "\n"
     ]
    },
    {
     "data": {
      "image/png": "[encoded data removed]",
      "text/plain": [
       "<Figure size 800x600 with 2 Axes>"
      ]
     },
     "metadata": {},
     "output_type": "display_data"
    },
    {
     "name": "stdout",
     "output_type": "stream",
     "text": [
      "Validation AUC: 0.9322429906542057\n"
     ]
    }
   ],
   "source": [
    "hyperparameters_1: dict[str: Union[int, float, list]] = {\n",
    "    'n_linear_hidden': 128,\n",
    "    'lstm_hidden_dim': 64,\n",
    "    'num_lstm_layers': 2,\n",
    "    'dropout': 0.4,\n",
    "    'bidirectional': True,\n",
    "    'freeze': False,\n",
    "    'n_frames': 20,\n",
    "    'batch_size': 4,\n",
    "    'lr': 0.00001,\n",
    "    'num_epochs': 20,\n",
    "    'gamma': 0.1,\n",
    "    'milestones': [32, 64]\n",
    "}\n",
    "\n",
    "models_to_train = [(ResNetLSTMClassifier, 'ResNetLSTMClassifier20x224', (224, 224), hyperparameters_1)]\n",
    "\n",
    "for model_type, name, size, hyperparameters in models_to_train:\n",
    "    model = model_type(\n",
    "        n_linear_hidden=hyperparameters['n_linear_hidden'],\n",
    "        lstm_hidden_dim=hyperparameters['lstm_hidden_dim'],\n",
    "        num_lstm_layers=hyperparameters['num_lstm_layers'],\n",
    "        dropout=hyperparameters['dropout'],\n",
    "        bidirectional=hyperparameters['bidirectional'],\n",
    "        freeze=hyperparameters['freeze']\n",
    "    )\n",
    "\n",
    "    print(f'Training {name} model:')\n",
    "    print('Hyperparameters', hyperparameters)\n",
    "    trainable_layers = [name for name, param in model.named_parameters() if param.requires_grad]\n",
    "\n",
    "    device = torch.device('cuda' if torch.cuda.is_available() else 'cpu')\n",
    "    train_model(model, hyperparameters, 'output_balenced_train.json', 'output_balenced_test.json', size, device, name)\n",
    "    del model"
   ]
  }
 ],
 "metadata": {
  "kaggle": {
   "accelerator": "gpu",
   "dataSources": [
    {
     "datasetId": 6674682,
     "sourceId": 10760425,
     "sourceType": "datasetVersion"
    }
   ],
   "dockerImageVersionId": 30887,
   "isGpuEnabled": true,
   "isInternetEnabled": true,
   "language": "python",
   "sourceType": "notebook"
  },
  "kernelspec": {
   "display_name": "Python 3",
   "language": "python",
   "name": "python3"
  },
  "language_info": {
   "codemirror_mode": {
    "name": "ipython",
    "version": 3
   },
   "file_extension": ".py",
   "mimetype": "text/x-python",
   "name": "python",
   "nbconvert_exporter": "python",
   "pygments_lexer": "ipython3",
   "version": "3.10.12"
  },
  "papermill": {
   "default_parameters": {},
   "duration": 19297.038498,
   "end_time": "2025-02-17T01:44:26.693154",
   "environment_variables": {},
   "exception": null,
   "input_path": "__notebook__.ipynb",
   "output_path": "__notebook__.ipynb",
   "parameters": {},
   "start_time": "2025-02-16T20:22:49.654656",
   "version": "2.6.0"
  },
  "vscode": {
   "interpreter": {
    "hash": "26de051ba29f2982a8de78e945f0abaf191376122a1563185a90213a26c5da77"
   }
  }
 },
 "nbformat": 4,
 "nbformat_minor": 5
}
